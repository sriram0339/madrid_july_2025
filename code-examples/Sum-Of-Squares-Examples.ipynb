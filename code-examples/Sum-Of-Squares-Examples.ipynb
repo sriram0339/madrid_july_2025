{
 "cells": [
  {
   "cell_type": "code",
   "execution_count": 98,
   "id": "d9046b78-80a4-41db-baa3-0635c99afa8f",
   "metadata": {},
   "outputs": [],
   "source": [
    "using JuMP\n",
    "using SumOfSquares\n",
    "using MosekTools\n",
    "using DynamicPolynomials\n",
    "using LinearAlgebra"
   ]
  },
  {
   "cell_type": "markdown",
   "id": "d45183c2-6608-4ef3-b68e-77260e37c2ec",
   "metadata": {},
   "source": [
    "## Example 1 \n",
    "$\\newcommand\\Re{\\mathbb{R}}$\n",
    "Find a polynomial $p  \\in \\Re[x,y]$ such that \n",
    "   - $p(\\vec{0}) = 0$.\n",
    "   - p(1, 1) = 1\n",
    "   - $p$ is SOS.\n",
    "   - $(x^2 + y^2 \\leq 1)\\ \\models\\ p \\leq 1$ "
   ]
  },
  {
   "cell_type": "code",
   "execution_count": 115,
   "id": "ea6f63e9-f18d-4440-8a4d-b5d6c3928c60",
   "metadata": {},
   "outputs": [
    {
     "data": {
      "text/plain": [
       "sos_example_1a (generic function with 1 method)"
      ]
     },
     "execution_count": 115,
     "metadata": {},
     "output_type": "execute_result"
    }
   ],
   "source": [
    "function sos_example_1a()\n",
    "    @polyvar x y \n",
    "\n",
    "    #initialize a solver object \n",
    "    solver = optimizer_with_attributes(MosekTools.Optimizer)\n",
    "    # create a model for sum of squares optimization \n",
    "    model = SOSModel(solver)\n",
    "    # create a list of monomials of degrees 1 and 2\n",
    "    # since p(0) = 0, we simply omit the constant term from p\n",
    "    monos = monomials([x,y], 1:2)\n",
    "    n_monos = size(monos)[1]\n",
    "    @variable(model, A[1:n_monos])\n",
    "    p = A ⋅ monos \n",
    "    println(\"p = $p\")\n",
    "    # specify that p is some unknown polynomial involving monos \n",
    "    println(\"p(1,1) = $(p(x => 1, y => 1))\")\n",
    "    @constraint(model, c0, p(x => 1, y => 1) == 1)\n",
    "    S = @set(1 - x^2 - y^2 >= 0)\n",
    "    @constraint(model, c1, p >= 0 ) # p must be positive definite\n",
    "    @constraint(model, c2, 1 - p >= 0, domain=S) # specify that S ⊧ 1 - p >= 0\n",
    "    @objective(model, Max, A[5] + A[3])\n",
    "    optimize!(model)\n",
    "    println(primal_status(model))\n",
    "    println(\"Found p = $(value(p))\")\n",
    "    \n",
    "    return value(p)\n",
    "end"
   ]
  },
  {
   "cell_type": "code",
   "execution_count": 116,
   "id": "bc5ce603-ff15-40e2-a422-fa67231e89b3",
   "metadata": {},
   "outputs": [
    {
     "name": "stdout",
     "output_type": "stream",
     "text": [
      "p = (A[1])*y + (A[2])*x + (A[3])*y^2 + (A[4])*x*y + (A[5])*x^2\n",
      "p(1,1) = A[1] + A[2] + A[3] + A[4] + A[5]\n",
      "Problem\n",
      "  Name                   :                 \n",
      "  Objective sense        : maximize        \n",
      "  Type                   : CONIC (conic optimization problem)\n",
      "  Constraints            : 12              \n",
      "  Affine conic cons.     : 0               \n",
      "  Disjunctive cons.      : 0               \n",
      "  Cones                  : 1               \n",
      "  Scalar variables       : 9               \n",
      "  Matrix variables       : 1 (scalarized: 6)\n",
      "  Integer variables      : 0               \n",
      "\n",
      "Optimizer started.\n",
      "Presolve started.\n",
      "Linear dependency checker started.\n",
      "Linear dependency checker terminated.\n",
      "Eliminator started.\n",
      "Freed constraints in eliminator : 0\n",
      "Eliminator terminated.\n",
      "Eliminator - tries                  : 1                 time                   : 0.00            \n",
      "Lin. dep.  - tries                  : 1                 time                   : 0.00            \n",
      "Lin. dep.  - primal attempts        : 1                 successes              : 1               \n",
      "Lin. dep.  - dual attempts          : 0                 successes              : 0               \n",
      "Lin. dep.  - primal deps.           : 0                 dual deps.             : 0               \n",
      "Presolve terminated. Time: 0.00    \n",
      "Optimizer  - threads                : 8               \n",
      "Optimizer  - solved problem         : the primal      \n",
      "Optimizer  - Constraints            : 7               \n",
      "Optimizer  - Cones                  : 1               \n",
      "Optimizer  - Scalar variables       : 4                 conic                  : 3               \n",
      "Optimizer  - Semi-definite variables: 1                 scalarized             : 6               \n",
      "Factor     - setup time             : 0.00            \n",
      "Factor     - dense det. time        : 0.00              GP order time          : 0.00            \n",
      "Factor     - nonzeros before factor : 25                after factor           : 25              \n",
      "Factor     - dense dim.             : 0                 flops                  : 3.22e+02        \n",
      "ITE PFEAS    DFEAS    GFEAS    PRSTATUS   POBJ              DOBJ              MU       TIME  \n",
      "0   1.7e+00  1.7e+00  4.1e-01  0.00e+00   1.414213562e+00   -0.000000000e+00  1.0e+00  0.00  \n",
      "1   3.1e-01  3.1e-01  3.4e-02  1.08e+00   1.580392498e+00   1.301108214e+00   1.8e-01  0.00  \n",
      "2   9.8e-03  9.8e-03  1.3e-04  1.10e+00   1.498244003e+00   1.492954846e+00   5.7e-03  0.00  \n",
      "3   1.2e-06  1.2e-06  2.0e-10  1.00e+00   1.499999397e+00   1.499998672e+00   7.0e-07  0.00  \n",
      "4   6.0e-13  6.1e-13  9.9e-17  1.00e+00   1.500000000e+00   1.500000000e+00   3.5e-13  0.00  \n",
      "Optimizer terminated. Time: 0.00    \n",
      "\n",
      "FEASIBLE_POINT\n",
      "Found p = 0.7499999999998024*y^2 - 0.4999999999994705*x*y + 0.7499999999998029*x^2\n"
     ]
    },
    {
     "data": {
      "text/latex": [
       "$$ 0.7499999999998024y^{2} - 0.4999999999994705xy + 0.7499999999998029x^{2} $$"
      ],
      "text/plain": [
       "0.7499999999998024y² - 0.4999999999994705xy + 0.7499999999998029x²"
      ]
     },
     "execution_count": 116,
     "metadata": {},
     "output_type": "execute_result"
    }
   ],
   "source": [
    "sos_example_1a()"
   ]
  },
  {
   "cell_type": "markdown",
   "id": "f3173643-470c-4104-b514-b311318a4425",
   "metadata": {},
   "source": [
    "# Example 2\n",
    "\n",
    "We wish to prove the following entailment for the smallest possible $\\alpha$\n",
    "\n",
    "$$ x^2 + y^2 + z^2 \\leq 1\\ \\land\\  xy \\geq \\frac{1}{2} \\ \\land\\ x + z \\geq 0.1\\ \\models\\ y \\leq \\alpha $$  "
   ]
  },
  {
   "cell_type": "code",
   "execution_count": 86,
   "id": "fec1cfb3-b0fc-47fc-98ad-214e93aee5e4",
   "metadata": {},
   "outputs": [
    {
     "data": {
      "text/plain": [
       "sos_example_2 (generic function with 1 method)"
      ]
     },
     "execution_count": 86,
     "metadata": {},
     "output_type": "execute_result"
    }
   ],
   "source": [
    "function sos_example_2()\n",
    "    # declare x, y, z as variables\n",
    "    @polyvar x y z\n",
    "    p1 = 1 - x^2 - y^2 - z^2\n",
    "    p2 = x*y - 0.5\n",
    "    p3 =  x+ z -0.1\n",
    "    # initialize the LHS of the entailment\n",
    "    S = @set(p1 >= 0) ∩ @set(p2 >= 0) ∩ @set(p3 >= 0)\n",
    "    \n",
    "    solver = optimizer_with_attributes(MosekTools.Optimizer)\n",
    "    model = SOSModel(solver)\n",
    "    @variable(model, α)\n",
    "    @objective(model, Min, α)\n",
    "    @constraint(model, c1, α - y >= 0, domain = S)\n",
    "    optimize!(model)\n",
    "    println(primal_status(model))\n",
    "    println(\"alpha = $(value(α))\")\n",
    "    #println(lagrangian_multipliers(c1))\n",
    "end"
   ]
  },
  {
   "cell_type": "code",
   "execution_count": 85,
   "id": "97c88409-ee8a-4448-9207-6b04ba61e934",
   "metadata": {},
   "outputs": [
    {
     "name": "stdout",
     "output_type": "stream",
     "text": [
      "Problem\n",
      "  Name                   :                 \n",
      "  Objective sense        : minimize        \n",
      "  Type                   : CONIC (conic optimization problem)\n",
      "  Constraints            : 10              \n",
      "  Affine conic cons.     : 0               \n",
      "  Disjunctive cons.      : 0               \n",
      "  Cones                  : 0               \n",
      "  Scalar variables       : 4               \n",
      "  Matrix variables       : 1 (scalarized: 10)\n",
      "  Integer variables      : 0               \n",
      "\n",
      "Optimizer started.\n",
      "Presolve started.\n",
      "Linear dependency checker started.\n",
      "Linear dependency checker terminated.\n",
      "Eliminator started.\n",
      "Freed constraints in eliminator : 0\n",
      "Eliminator terminated.\n",
      "Eliminator - tries                  : 1                 time                   : 0.00            \n",
      "Lin. dep.  - tries                  : 1                 time                   : 0.00            \n",
      "Lin. dep.  - primal attempts        : 1                 successes              : 1               \n",
      "Lin. dep.  - dual attempts          : 0                 successes              : 0               \n",
      "Lin. dep.  - primal deps.           : 0                 dual deps.             : 0               \n",
      "Presolve terminated. Time: 0.00    \n",
      "Optimizer  - threads                : 8               \n",
      "Optimizer  - solved problem         : the primal      \n",
      "Optimizer  - Constraints            : 10              \n",
      "Optimizer  - Cones                  : 1               \n",
      "Optimizer  - Scalar variables       : 5                 conic                  : 2               \n",
      "Optimizer  - Semi-definite variables: 1                 scalarized             : 10              \n",
      "Factor     - setup time             : 0.00            \n",
      "Factor     - dense det. time        : 0.00              GP order time          : 0.00            \n",
      "Factor     - nonzeros before factor : 55                after factor           : 55              \n",
      "Factor     - dense dim.             : 0                 flops                  : 8.29e+02        \n",
      "ITE PFEAS    DFEAS    GFEAS    PRSTATUS   POBJ              DOBJ              MU       TIME  \n",
      "0   1.0e+00  1.0e+00  1.0e+00  0.00e+00   0.000000000e+00   0.000000000e+00   1.0e+00  0.00  \n",
      "1   2.6e-01  2.6e-01  1.7e-01  5.98e-01   4.556092545e-01   5.591482661e-01   2.6e-01  0.00  \n",
      "2   2.6e-02  2.6e-02  5.1e-03  9.75e-01   7.842588756e-01   7.909628713e-01   2.6e-02  0.00  \n",
      "3   4.6e-03  4.6e-03  5.4e-04  6.81e-01   7.630808504e-01   7.695387360e-01   4.6e-03  0.00  \n",
      "4   1.1e-03  1.1e-03  1.1e-04  4.30e-01   7.386945064e-01   7.445671616e-01   1.1e-03  0.00  \n",
      "5   3.3e-04  3.3e-04  2.2e-05  5.81e-01   7.294654070e-01   7.326455697e-01   3.3e-04  0.00  \n",
      "6   1.5e-04  1.5e-04  9.5e-06  3.22e-01   7.220634575e-01   7.256080813e-01   1.5e-04  0.00  \n",
      "7   3.8e-05  3.8e-05  1.5e-06  7.29e-01   7.180943423e-01   7.193822173e-01   3.8e-05  0.00  \n",
      "8   1.3e-05  1.3e-05  5.4e-07  3.49e-01   7.139041614e-01   7.153595177e-01   1.3e-05  0.00  \n",
      "9   3.5e-06  3.5e-06  9.0e-08  6.86e-01   7.120268783e-01   7.126218093e-01   3.5e-06  0.00  \n",
      "10  1.2e-06  1.2e-06  3.2e-08  3.48e-01   7.101738832e-01   7.108303283e-01   1.2e-06  0.00  \n",
      "11  3.3e-07  3.3e-07  5.5e-09  6.80e-01   7.093280194e-01   7.095999804e-01   3.3e-07  0.00  \n",
      "12  1.2e-07  1.2e-07  2.0e-09  3.27e-01   7.084879249e-01   7.087946196e-01   1.2e-07  0.00  \n",
      "13  3.0e-08  3.0e-08  3.3e-10  6.80e-01   7.080976798e-01   7.082207509e-01   3.0e-08  0.00  \n",
      "14  1.0e-08  9.9e-09  1.2e-10  3.38e-01   7.077171520e-01   7.078507595e-01   9.9e-09  0.00  \n",
      "15  2.7e-09  2.7e-09  2.0e-11  6.70e-01   7.075482606e-01   7.076041080e-01   2.7e-09  0.00  \n",
      "16  2.0e-09  9.2e-10  7.3e-12  3.13e-01   7.073790950e-01   7.074422202e-01   9.2e-10  0.00  \n",
      "17  4.0e-10  2.3e-10  1.2e-12  6.77e-01   7.073017329e-01   7.073267303e-01   2.3e-10  0.00  \n",
      "18  1.3e-10  7.5e-11  3.9e-13  3.41e-01   7.072260191e-01   7.072525727e-01   7.5e-11  0.00  \n",
      "19  3.5e-11  2.0e-11  6.8e-14  6.64e-01   7.071934197e-01   7.072047061e-01   2.0e-11  0.00  \n",
      "20  1.2e-11  1.2e-11  2.6e-14  3.02e-01   7.071602055e-01   7.071731053e-01   7.1e-12  0.00  \n",
      "21  3.0e-12  3.0e-12  4.0e-15  6.79e-01   7.071448899e-01   7.071498893e-01   1.8e-12  0.00  \n",
      "22  4.2e-12  5.5e-13  1.3e-15  3.52e-01   7.071299833e-01   7.071351414e-01   5.5e-13  0.00  \n",
      "23  6.0e-12  4.5e-13  9.7e-16  7.22e-01   7.071286054e-01   7.071331470e-01   4.6e-13  0.00  \n",
      "24  9.3e-12  4.1e-13  8.6e-16  6.10e-01   7.071279809e-01   7.071322797e-01   4.1e-13  0.00  \n",
      "25  4.9e-12  2.5e-12  1.6e-16  6.13e-01   7.071220519e-01   7.071240464e-01   1.1e-13  0.00  \n",
      "26  6.9e-12  2.5e-12  1.6e-16  1.00e+00   7.071220449e-01   7.071240356e-01   1.1e-13  0.00  \n",
      "27  6.4e-12  2.5e-12  1.6e-16  1.00e+00   7.071220431e-01   7.071240328e-01   1.1e-13  0.00  \n",
      "28  7.5e-12  2.5e-12  1.6e-16  1.00e+00   7.071220395e-01   7.071240274e-01   1.1e-13  0.00  \n",
      "29  7.4e-12  2.5e-12  1.6e-16  9.94e-01   7.071220386e-01   7.071240260e-01   1.1e-13  0.00  \n",
      "30  7.7e-12  2.5e-12  1.6e-16  3.76e-01   7.071220327e-01   7.071240201e-01   1.1e-13  0.00  \n",
      "31  7.8e-12  2.5e-12  1.6e-16  1.00e+00   7.071220322e-01   7.071240194e-01   1.1e-13  0.00  \n",
      "32  7.9e-12  2.5e-12  1.6e-16  3.13e-01   7.071220318e-01   7.071240190e-01   1.1e-13  0.00  \n",
      "33  7.9e-12  2.5e-12  1.6e-16  9.98e-01   7.071220317e-01   7.071240188e-01   1.1e-13  0.00  \n",
      "34  7.9e-12  2.5e-12  1.6e-16  9.99e-01   7.071220317e-01   7.071240188e-01   1.1e-13  0.00  \n",
      "35  7.9e-12  2.5e-12  1.6e-16  1.00e+00   7.071220317e-01   7.071240188e-01   1.1e-13  0.00  \n",
      "36  7.9e-12  2.5e-12  1.6e-16  8.22e-01   7.071220317e-01   7.071240188e-01   1.1e-13  0.00  \n",
      "37  7.9e-12  2.5e-12  1.6e-16  8.22e-01   7.071220317e-01   7.071240188e-01   1.1e-13  0.00  \n",
      "38  7.9e-12  2.5e-12  1.6e-16  8.22e-01   7.071220317e-01   7.071240188e-01   1.1e-13  0.00  \n",
      "Optimizer terminated. Time: 0.00    \n",
      "\n",
      "FEASIBLE_POINT\n",
      "alpha = 0.7071220316501379\n"
     ]
    }
   ],
   "source": [
    "# this takes a while to run first time around due to pre-compilation overhead.\n",
    "sos_example_1()"
   ]
  }
 ],
 "metadata": {
  "kernelspec": {
   "display_name": "Julia 1.11.6",
   "language": "julia",
   "name": "julia-1.11"
  },
  "language_info": {
   "file_extension": ".jl",
   "mimetype": "application/julia",
   "name": "julia",
   "version": "1.11.6"
  }
 },
 "nbformat": 4,
 "nbformat_minor": 5
}
