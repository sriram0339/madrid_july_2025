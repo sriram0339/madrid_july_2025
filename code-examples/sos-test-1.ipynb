{
 "cells": [
  {
   "cell_type": "code",
   "execution_count": 1,
   "id": "bd2b9e06-ccdf-49ff-adb3-713e3f32f8c8",
   "metadata": {},
   "outputs": [],
   "source": [
    "using JuMP\n",
    "using SumOfSquares\n",
    "using MosekTools\n",
    "using DynamicPolynomials"
   ]
  },
  {
   "cell_type": "code",
   "execution_count": 2,
   "id": "00ff731f-e4da-4643-b05c-49dab64aecd1",
   "metadata": {},
   "outputs": [
    {
     "data": {
      "text/latex": [
       "$$ -y - x $$"
      ],
      "text/plain": [
       "-y - x"
      ]
     },
     "execution_count": 2,
     "metadata": {},
     "output_type": "execute_result"
    }
   ],
   "source": [
    "@polyvar x y \n",
    "p1 = 1 - x^2 - y^2\n",
    "p2 = - x - y"
   ]
  },
  {
   "cell_type": "code",
   "execution_count": 8,
   "id": "735c514d-1fea-4c73-b51c-bd0c51439e22",
   "metadata": {},
   "outputs": [
    {
     "name": "stdout",
     "output_type": "stream",
     "text": [
      "Problem\n",
      "  Name                   :                 \n",
      "  Objective sense        : maximize        \n",
      "  Type                   : CONIC (conic optimization problem)\n",
      "  Constraints            : 6               \n",
      "  Affine conic cons.     : 0               \n",
      "  Disjunctive cons.      : 0               \n",
      "  Cones                  : 0               \n",
      "  Scalar variables       : 3               \n",
      "  Matrix variables       : 1 (scalarized: 6)\n",
      "  Integer variables      : 0               \n",
      "\n",
      "Optimizer started.\n",
      "Presolve started.\n",
      "Linear dependency checker started.\n",
      "Linear dependency checker terminated.\n",
      "Eliminator started.\n",
      "Freed constraints in eliminator : 0\n",
      "Eliminator terminated.\n",
      "Eliminator started.\n",
      "Freed constraints in eliminator : 0\n",
      "Eliminator terminated.\n",
      "Eliminator - tries                  : 2                 time                   : 0.00            \n",
      "Lin. dep.  - tries                  : 1                 time                   : 0.00            \n",
      "Lin. dep.  - primal attempts        : 1                 successes              : 1               \n",
      "Lin. dep.  - dual attempts          : 0                 successes              : 0               \n",
      "Lin. dep.  - primal deps.           : 0                 dual deps.             : 0               \n",
      "Presolve terminated. Time: 0.00    \n",
      "Optimizer  - threads                : 8               \n",
      "Optimizer  - solved problem         : the primal      \n",
      "Optimizer  - Constraints            : 6               \n",
      "Optimizer  - Cones                  : 1               \n",
      "Optimizer  - Scalar variables       : 4                 conic                  : 2               \n",
      "Optimizer  - Semi-definite variables: 1                 scalarized             : 6               \n",
      "Factor     - setup time             : 0.00            \n",
      "Factor     - dense det. time        : 0.00              GP order time          : 0.00            \n",
      "Factor     - nonzeros before factor : 21                after factor           : 21              \n",
      "Factor     - dense dim.             : 0                 flops                  : 2.66e+02        \n",
      "ITE PFEAS    DFEAS    GFEAS    PRSTATUS   POBJ              DOBJ              MU       TIME  \n",
      "0   1.0e+00  1.0e+00  1.0e+00  0.00e+00   -0.000000000e+00  -0.000000000e+00  1.0e+00  0.00  \n",
      "1   2.1e-01  2.1e-01  9.2e-01  -5.96e-01  2.014126164e+01   4.051112661e+00   2.1e-01  0.00  \n",
      "2   1.1e-02  1.1e-02  1.3e-01  -1.74e+00  1.414418624e+02   1.069421820e-01   1.1e-02  0.00  \n",
      "3   1.5e-06  1.5e-06  2.2e-03  -1.01e+00  2.140511698e+06   6.691575878e-01   1.5e-06  0.00  \n",
      "4   8.9e-16  3.7e-18  2.1e-07  -1.00e+00  8.971784453e+17   4.163207400e-01   3.7e-18  0.00  \n",
      "Optimizer terminated. Time: 0.00    \n",
      "\n"
     ]
    }
   ],
   "source": [
    "S = @set(p1 >= 0) ∩ @set(p2 >= 0)\n",
    "solver = optimizer_with_attributes(MosekTools.Optimizer)\n",
    "\n",
    "model = SOSModel(solver)\n",
    "@variable(model, α)\n",
    "@objective(model, Max, α)\n",
    "@constraint(model, c1, α - y >= 0, domain = S)\n",
    "optimize!(model)"
   ]
  },
  {
   "cell_type": "code",
   "execution_count": 30,
   "id": "3a807366-fc63-4a36-83ad-868b29995ca3",
   "metadata": {},
   "outputs": [
    {
     "data": {
      "text/plain": [
       "1.42"
      ]
     },
     "execution_count": 30,
     "metadata": {},
     "output_type": "execute_result"
    }
   ],
   "source": [
    "v= 1.42"
   ]
  },
  {
   "cell_type": "code",
   "execution_count": 11,
   "id": "af2d6d4a-4225-42e0-8421-e01ce0712256",
   "metadata": {},
   "outputs": [
    {
     "name": "stdout",
     "output_type": "stream",
     "text": [
      "GramMatrix{Float64, MonomialBasis{DynamicPolynomials.Monomial{DynamicPolynomials.Commutative{DynamicPolynomials.CreationOrder}, Graded{LexOrder}}, MonomialVector{DynamicPolynomials.Commutative{DynamicPolynomials.CreationOrder}, Graded{LexOrder}}}, Float64, SymMatrix{Float64}}[GramMatrix with row/column basis:\n",
      " MonomialBasis([1])\n",
      "And entries in a 1×1 SymMatrix{Float64}:\n",
      " 0.7651347206324711, GramMatrix with row/column basis:\n",
      " MonomialBasis([1])\n",
      "And entries in a 1×1 SymMatrix{Float64}:\n",
      " 0.3996028272788739]"
     ]
    }
   ],
   "source": [
    "print(lagrangian_multipliers(c1))"
   ]
  },
  {
   "cell_type": "code",
   "execution_count": 32,
   "id": "c5885728-db69-4905-b090-ba75fe37a4ab",
   "metadata": {},
   "outputs": [
    {
     "data": {
      "text/latex": [
       "$$ 0.6199999999999999 - 0.6y + 0.4x + 0.8y^{2} + 0.8x^{2} $$"
      ],
      "text/plain": [
       "0.6199999999999999 - 0.6y + 0.4x + 0.8y² + 0.8x²"
      ]
     },
     "execution_count": 32,
     "metadata": {},
     "output_type": "execute_result"
    }
   ],
   "source": [
    "(v - y) - 0.8* p1 - 0.4 * p2"
   ]
  },
  {
   "cell_type": "code",
   "execution_count": 19,
   "id": "958a18ef-5cf1-4737-9c47-3c6e54758bca",
   "metadata": {},
   "outputs": [
    {
     "data": {
      "text/latex": [
       "$$ 0.65740024507039 - 0.6004y + 0.3996x + 0.765134y^{2} + 0.765134x^{2} $$"
      ],
      "text/plain": [
       "0.65740024507039 - 0.6004y + 0.3996x + 0.765134y² + 0.765134x²"
      ]
     },
     "execution_count": 19,
     "metadata": {},
     "output_type": "execute_result"
    }
   ],
   "source": [
    "p_res = (v - y) - 0.765134* p1 - 0.39960 * p2 "
   ]
  },
  {
   "cell_type": "code",
   "execution_count": 23,
   "id": "03193139-d99c-494e-bbc8-217270cbe559",
   "metadata": {},
   "outputs": [
    {
     "name": "stdout",
     "output_type": "stream",
     "text": [
      "Problem\n",
      "  Name                   :                 \n",
      "  Objective sense        : minimize        \n",
      "  Type                   : CONIC (conic optimization problem)\n",
      "  Constraints            : 6               \n",
      "  Affine conic cons.     : 0               \n",
      "  Disjunctive cons.      : 0               \n",
      "  Cones                  : 0               \n",
      "  Scalar variables       : 0               \n",
      "  Matrix variables       : 1 (scalarized: 6)\n",
      "  Integer variables      : 0               \n",
      "\n",
      "Optimizer started.\n",
      "Presolve started.\n",
      "Eliminator started.\n",
      "Freed constraints in eliminator : 0\n",
      "Eliminator terminated.\n",
      "Linear dependency checker started.\n",
      "Linear dependency checker terminated.\n",
      "Eliminator started.\n",
      "Freed constraints in eliminator : 0\n",
      "Eliminator terminated.\n",
      "Eliminator - tries                  : 2                 time                   : 0.00            \n",
      "Lin. dep.  - tries                  : 1                 time                   : 0.00            \n",
      "Lin. dep.  - primal attempts        : 1                 successes              : 1               \n",
      "Lin. dep.  - dual attempts          : 0                 successes              : 0               \n",
      "Lin. dep.  - primal deps.           : 0                 dual deps.             : 0               \n",
      "Presolve terminated. Time: 0.00    \n",
      "Optimizer  - threads                : 8               \n",
      "Optimizer  - solved problem         : the primal      \n",
      "Optimizer  - Constraints            : 6               \n",
      "Optimizer  - Cones                  : 0               \n",
      "Optimizer  - Scalar variables       : 0                 conic                  : 0               \n",
      "Optimizer  - Semi-definite variables: 1                 scalarized             : 6               \n",
      "Factor     - setup time             : 0.00            \n",
      "Factor     - dense det. time        : 0.00              GP order time          : 0.00            \n",
      "Factor     - nonzeros before factor : 21                after factor           : 21              \n",
      "Factor     - dense dim.             : 0                 flops                  : 2.44e+02        \n",
      "ITE PFEAS    DFEAS    GFEAS    PRSTATUS   POBJ              DOBJ              MU       TIME  \n",
      "0   6.0e-01  1.0e+00  1.0e+00  0.00e+00   0.000000000e+00   0.000000000e+00   1.0e+00  0.00  \n",
      "1   6.1e-02  1.0e-01  2.1e-02  1.23e+00   0.000000000e+00   -4.439618134e-02  1.0e-01  0.00  \n",
      "2   4.1e-04  6.8e-04  1.1e-05  1.14e+00   0.000000000e+00   -2.939808354e-04  6.8e-04  0.00  \n",
      "3   9.0e-11  1.5e-10  1.2e-15  1.00e+00   0.000000000e+00   -5.279547675e-11  1.5e-10  0.00  \n",
      "Optimizer terminated. Time: 0.00    \n",
      "\n"
     ]
    }
   ],
   "source": [
    "model2 = SOSModel(MosekTools.Optimizer)\n",
    "@constraint(model2, cref, p_res >= 0)\n",
    "optimize!(model2)"
   ]
  },
  {
   "cell_type": "code",
   "execution_count": 24,
   "id": "9ecf5b53-ed29-4123-bc27-25d32529b2f3",
   "metadata": {},
   "outputs": [
    {
     "name": "stdout",
     "output_type": "stream",
     "text": [
      "(-0.6771008267508056 + 0.6541239875797458*y - 0.4353563381693305*x)^2 + (-1.1085092846255747e-16 + 0.4846471022483462*y + 0.7281834839587276*x)^2 + (-0.44602098103631144 - 0.31995780219123066*y + 0.2129499296395994*x)^2\n"
     ]
    }
   ],
   "source": [
    "println(sos_decomposition(cref))"
   ]
  },
  {
   "cell_type": "code",
   "execution_count": 25,
   "id": "ba8b7c97-8f1f-4467-8af5-3f8d0a7d1cf9",
   "metadata": {},
   "outputs": [
    {
     "name": "stdout",
     "output_type": "stream",
     "text": [
      "GramMatrix with row/column basis:\n",
      " MonomialBasis([1, y, x])\n",
      "And entries in a 3×3 SymMatrix{Float64}:\n",
      "  0.6574002451112184   -0.3001999999642249    0.19979999997618944\n",
      " -0.3001999999642249    0.7651340000279894    9.93786749360908e-17\n",
      "  0.19979999997618944   9.93786749360908e-17  0.7651340000279893\n"
     ]
    }
   ],
   "source": [
    "println(gram_matrix(cref))"
   ]
  },
  {
   "cell_type": "code",
   "execution_count": 38,
   "id": "4fd6d0e7-0c85-4807-b994-e8c34056bbf6",
   "metadata": {},
   "outputs": [
    {
     "data": {
      "text/plain": [
       "(2//1y + x, -2//1 + 5//1y²)"
      ]
     },
     "execution_count": 38,
     "metadata": {},
     "output_type": "execute_result"
    }
   ],
   "source": [
    "(q, r) = divrem(x^2+ y^2 - 2, x - 2*y)"
   ]
  },
  {
   "cell_type": "code",
   "execution_count": 39,
   "id": "6625e704-598f-421f-b815-7ca288c34a41",
   "metadata": {},
   "outputs": [
    {
     "data": {
      "text/latex": [
       "$$ -4y^{2} + x^{2} $$"
      ],
      "text/plain": [
       "-4y² + x²"
      ]
     },
     "execution_count": 39,
     "metadata": {},
     "output_type": "execute_result"
    }
   ],
   "source": []
  },
  {
   "cell_type": "code",
   "execution_count": null,
   "id": "53ba734b-da99-4552-b400-f5717f4c85ea",
   "metadata": {},
   "outputs": [],
   "source": []
  }
 ],
 "metadata": {
  "kernelspec": {
   "display_name": "Julia 1.11.6",
   "language": "julia",
   "name": "julia-1.11"
  },
  "language_info": {
   "file_extension": ".jl",
   "mimetype": "application/julia",
   "name": "julia",
   "version": "1.11.6"
  }
 },
 "nbformat": 4,
 "nbformat_minor": 5
}
