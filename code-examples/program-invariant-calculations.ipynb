{
 "cells": [
  {
   "cell_type": "markdown",
   "id": "322ac8f6-026e-418d-8021-8df60127f55a",
   "metadata": {},
   "source": [
    "# Calculating Program Invariants \n",
    "\n",
    "We wanted to demonstrate how grobner basis and the ideal-variety correspondence from \n",
    "computational algebraic geometry can be used to reason about programs. \n",
    "\n",
    "Roughly based on the works by \n",
    " - Sankaranarayanan, Sipma and Manna, POPL 2004.\n",
    " - Carbonell and Kapur, ISSAC 2004, SAS 2004.\n",
    "   \n"
   ]
  },
  {
   "cell_type": "code",
   "execution_count": 59,
   "id": "4c9eeb22-9d16-4db0-b74a-1e8a6be00bf1",
   "metadata": {},
   "outputs": [],
   "source": [
    "import sympy as sp "
   ]
  },
  {
   "cell_type": "markdown",
   "id": "3f9ec4b8-7977-4262-b851-dcd8b3a2d99c",
   "metadata": {},
   "source": [
    "Let's start with a simple while loop: \n",
    "\n",
    "Initially: x = 0, y = 0\n",
    "\n",
    "while ( ... ){ x, y = x + 1, y + 2* x + 1 } \n",
    "\n",
    "We want to compute a polynomial loop invariant involving $x, y$."
   ]
  },
  {
   "cell_type": "code",
   "execution_count": 60,
   "id": "047c5cac-e769-40a5-8a94-4d4d3d70bd75",
   "metadata": {},
   "outputs": [],
   "source": [
    "# Let us declare program variables and somehow create a program structure.\n",
    "\n",
    "prog_vars = [sp.Symbol('x'), sp.Symbol('y')]\n",
    "primed_prog_vars = [sp.Symbol('xp'), sp.Symbol('yp')]\n",
    "\n",
    "[x, y] = prog_vars\n",
    "[xp, yp] = primed_prog_vars"
   ]
  },
  {
   "cell_type": "code",
   "execution_count": 61,
   "id": "582211e1-7832-41c1-8104-f9032cd2cdf6",
   "metadata": {},
   "outputs": [],
   "source": [
    "init_cond = [x, y] # this represents the constraints x = 0, y = 0\n",
    "\n",
    "trans_rel = [xp - x -1, yp - y - 2*x - 1]\n",
    "\n",
    "loop_transition_relations = [trans_rel]"
   ]
  },
  {
   "cell_type": "code",
   "execution_count": 62,
   "id": "43beb605-2cdb-46df-96d3-b8d6908a707e",
   "metadata": {},
   "outputs": [],
   "source": [
    "def mk_groebner_basis(constrs, prog_vars):\n",
    "    return sp.groebner(constrs, prog_vars, order='grevlex')"
   ]
  },
  {
   "cell_type": "code",
   "execution_count": 63,
   "id": "ce2ae7c3-4034-4bee-9e62-21af7a8835a8",
   "metadata": {},
   "outputs": [],
   "source": [
    "def compute_union_through_product(Gi, Gj, prog_vars):\n",
    "    # multiply all polynomials in I and J together\n",
    "    I = Gi.exprs\n",
    "    J = Gj.exprs\n",
    "    # Check if one of them is contained in the other. \n",
    "    if check_containment_by_reduction(Gi, Gj):\n",
    "        # var(G1) \\substeq var(G0)\n",
    "        return Gi\n",
    "    if check_containment_by_reduction(Gj, Gi):\n",
    "        return Gj\n",
    "    \n",
    "    J = [p for p in J if (Gi.reduce(p)[1] != 0)]\n",
    "    IJ = [ p * q for p in I for q in J ] \n",
    "    grb_IJ = sp.groebner(IJ, prog_vars, order='grevlex')\n",
    "    return grb_IJ"
   ]
  },
  {
   "cell_type": "code",
   "execution_count": 64,
   "id": "62a074c4-8ab3-4bb9-9be1-fd1d1a77d70e",
   "metadata": {},
   "outputs": [],
   "source": [
    "def compute_union_through_elimination(Gi, Gj, prog_vars):\n",
    "    tmp = sp.Symbol('tmp__') # create a new symbol tmp\n",
    "    I = Gi.exprs\n",
    "    J = Gj.exprs \n",
    "    IJ = [tmp*p for p in I] + [(1-tmp)*q for q in J]\n",
    "    grb_IJ = sp.groebner(IJ, [tmp]+prog_vars, order='lex')\n",
    "    new_bases = [ p for p in grb_IJ.exprs if not(p.has_free(tmp)) ]\n",
    "    return sp.groebner(new_bases, prog_vars, order='grevlex')"
   ]
  },
  {
   "cell_type": "code",
   "execution_count": 65,
   "id": "a4158fe6-b82d-4068-aca5-e8319f469732",
   "metadata": {},
   "outputs": [],
   "source": [
    "def compute_union(Gi, Gj, prog_vars):\n",
    "    return compute_union_through_elimination(Gi, Gj, prog_vars)"
   ]
  },
  {
   "cell_type": "code",
   "execution_count": 66,
   "id": "ce1345de-8efb-49a9-98c9-453fd35cd6ea",
   "metadata": {},
   "outputs": [],
   "source": [
    "def compute_post_cond_elim( I0, trs_rel, prog_vars, primed_prog_vars):\n",
    "    combined =  I0.exprs + trs_rel \n",
    "    # use lexicographic grobner bases\n",
    "    combined_grb = sp.groebner(combined, prog_vars + primed_prog_vars, order='lex')\n",
    "    def check_if_poly_has_prog_vars(poly):\n",
    "        return any(poly.has_free(v) for v in prog_vars)\n",
    "    exprs = combined_grb.exprs\n",
    "    exprs_primed = [ e for e in exprs if not check_if_poly_has_prog_vars(e) ]\n",
    "    # now we need to substitute\n",
    "    subst = [( xp, x) for (xp, x) in zip(primed_prog_vars, prog_vars)]\n",
    "    exprs_subst = [sp.poly( e.subs(subst), prog_vars) for e in exprs_primed]\n",
    "    \n",
    "    return mk_groebner_basis(exprs_subst, prog_vars)"
   ]
  },
  {
   "cell_type": "code",
   "execution_count": 67,
   "id": "d6c5b498-ab63-424b-95e8-27a4d2f7cad1",
   "metadata": {},
   "outputs": [],
   "source": [
    "from functools import reduce\n",
    "\n",
    "def compute_post_and_join(I, I0, trs_rels, prog_vars, primed_prog_vars):\n",
    "    # compute all the post-conditions \n",
    "    post_conds = [compute_post_cond_elim(I, tr_rel, prog_vars, primed_prog_vars) for tr_rel in trs_rels] \n",
    "    # compute the joins with I0\n",
    "    J = reduce( lambda I,J: compute_union(I, J, prog_vars), post_conds, I0)\n",
    "    return J\n",
    "    "
   ]
  },
  {
   "cell_type": "code",
   "execution_count": 68,
   "id": "8a6a0456-e713-4190-9ac7-5cdc3f6a55d0",
   "metadata": {},
   "outputs": [
    {
     "name": "stdout",
     "output_type": "stream",
     "text": [
      "GroebnerBasis([x - 1, y - 1], x, y, domain='ZZ', order='grevlex')\n"
     ]
    }
   ],
   "source": [
    "I0 = mk_groebner_basis(init_cond, prog_vars)\n",
    "J1 = compute_post_cond_elim(I0, trans_rel, prog_vars, primed_prog_vars)\n",
    "print(J1)"
   ]
  },
  {
   "cell_type": "code",
   "execution_count": 69,
   "id": "4b967d5b-c57d-4aab-b3f9-00bc9210d84a",
   "metadata": {},
   "outputs": [
    {
     "name": "stdout",
     "output_type": "stream",
     "text": [
      "GroebnerBasis([y**2 - y, x - y], x, y, domain='ZZ', order='grevlex')\n"
     ]
    }
   ],
   "source": [
    "\n",
    "I1 = compute_post_and_join(I0, I0, loop_transition_relations, prog_vars, primed_prog_vars) \n",
    "print(I1)"
   ]
  },
  {
   "cell_type": "code",
   "execution_count": 70,
   "id": "076e80af-f5d3-4a81-88a6-44fcb8402196",
   "metadata": {},
   "outputs": [
    {
     "name": "stdout",
     "output_type": "stream",
     "text": [
      "GroebnerBasis([x**2 - y, x*y + 2*x - 3*y, y**2 + 6*x - 7*y], x, y, domain='ZZ', order='grevlex')\n"
     ]
    }
   ],
   "source": [
    "I2 = compute_post_and_join(I1, I0, loop_transition_relations, prog_vars, primed_prog_vars)\n",
    "print(I2)"
   ]
  },
  {
   "cell_type": "code",
   "execution_count": 71,
   "id": "eb947809-fe1b-46fd-8e42-4c16e08e5893",
   "metadata": {},
   "outputs": [
    {
     "name": "stdout",
     "output_type": "stream",
     "text": [
      "GroebnerBasis([y**3 - 15*y**2 - 60*x + 74*y, x**2 - y, 6*x*y - y**2 + 6*x - 11*y], x, y, domain='ZZ', order='grevlex')\n"
     ]
    }
   ],
   "source": [
    "I3 = compute_post_and_join(I2, I0, loop_transition_relations, prog_vars, primed_prog_vars)\n",
    "print(I3)"
   ]
  },
  {
   "cell_type": "code",
   "execution_count": 72,
   "id": "af802b13-8e6d-41dc-b839-8da1ce0ab425",
   "metadata": {},
   "outputs": [
    {
     "name": "stdout",
     "output_type": "stream",
     "text": [
      "GroebnerBasis([x*y**2 + 35*x*y - 10*y**2 + 24*x - 50*y, y**3 + 300*x*y - 65*y**2 + 240*x - 476*y, x**2 - y], x, y, domain='ZZ', order='grevlex')\n"
     ]
    }
   ],
   "source": [
    "I4 = compute_post_and_join(I3, I0, loop_transition_relations, prog_vars, primed_prog_vars)\n",
    "print(I4)"
   ]
  },
  {
   "cell_type": "markdown",
   "id": "e5ab4827-1abf-4b83-80f9-080a181f6231",
   "metadata": {},
   "source": [
    "## Widening Operator \n",
    "\n",
    "There are many ways to define a widening operator. A simple widening operator is the analog of standard widening. \n",
    "\n",
    " - $I_n \\nabla I_{n+1}$ where $I_{n+1} \\subseteq I_n$.\n",
    " - Note the ordering of ideals is flipped from what one would usually consider for abstract interpretation.\n",
    " - This is because the abstract domain we would like to work with is that of algebraic varieties:\n",
    "    - Ideals are a representation of varieties. \n",
    "\n",
    "\n",
    "``Standard Widening'' $I_n \\nabla I_{n+1}$. Let $I_n = \\langle g_1, \\ldots, g_k \\rangle $. \n",
    "  - Choose $g_i \\in \\mathsf{generators}(I_n)$ such that $g_i \\in I_{n+1}$.\n",
    "\n",
    "Note that using standard widening guarantees convergence. "
   ]
  },
  {
   "cell_type": "code",
   "execution_count": 73,
   "id": "c633814d-08f1-4f4d-afeb-28a77b4f3815",
   "metadata": {},
   "outputs": [],
   "source": [
    "def widen(G0, G1, prog_vars):\n",
    "    result = [] \n",
    "    for p in G0.exprs: \n",
    "        (_, res) = G1.reduce(p)\n",
    "        if res == 0:\n",
    "            result.append(p)\n",
    "    Gp = sp.groebner(result, prog_vars, order='grevlex')\n",
    "    return Gp"
   ]
  },
  {
   "cell_type": "code",
   "execution_count": 74,
   "id": "80f9f32c-d5a4-4f2a-8bfe-dcb35eb33f88",
   "metadata": {},
   "outputs": [],
   "source": [
    "def check_containment_by_reduction(G0, G1):\n",
    "    # use a sufficient condition to check if var(G1) \\subseteq var(G0)\n",
    "    # in other words ideal(G0) \\subseteq ideal(G1)\n",
    "    # therefore, every generator of G0 is reduced by G1 to 0\n",
    "    I0 = G0.exprs\n",
    "    for p in I0:\n",
    "        res = G1.reduce(p)[1]\n",
    "        if res != 0:\n",
    "            return False\n",
    "    return True\n",
    "        \n",
    "    "
   ]
  },
  {
   "cell_type": "code",
   "execution_count": 75,
   "id": "f59823a0-b714-43d6-9671-66ad2d7383d0",
   "metadata": {},
   "outputs": [],
   "source": [
    "def perform_abstract_interpretation(init_cond, trs_relations, prog_vars, primed_prog_vars, widen_delay=4):\n",
    "    count = 1\n",
    "    I0 = mk_groebner_basis(init_cond, prog_vars)\n",
    "    I = I0\n",
    "    terminated = False\n",
    "    while not(terminated):\n",
    "        print(f'Interation # {count}')\n",
    "        J = compute_post_and_join(I, I0, trs_relations, prog_vars, primed_prog_vars)\n",
    "        print(f'\\t J= {J}')\n",
    "        if (count < widen_delay):\n",
    "            I = J\n",
    "        else: \n",
    "            print('\\t Widening')\n",
    "            n_polys = len(I.exprs)\n",
    "            I_hat = widen(I, J, prog_vars)\n",
    "            print(f'\\t After Widening: {I_hat}')\n",
    "            if check_containment_by_reduction(I, I_hat):\n",
    "                return I_hat\n",
    "            I = I_hat\n",
    "        count = count + 1 \n",
    "    return I"
   ]
  },
  {
   "cell_type": "code",
   "execution_count": 76,
   "id": "d8bdf785-bb63-48a6-aee9-bad2d6957057",
   "metadata": {},
   "outputs": [
    {
     "name": "stdout",
     "output_type": "stream",
     "text": [
      "Interation # 1\n",
      "\t J= GroebnerBasis([y**2 - y, x - y], x, y, domain='ZZ', order='grevlex')\n",
      "Interation # 2\n",
      "\t J= GroebnerBasis([x**2 - y, x*y + 2*x - 3*y, y**2 + 6*x - 7*y], x, y, domain='ZZ', order='grevlex')\n",
      "Interation # 3\n",
      "\t J= GroebnerBasis([y**3 - 15*y**2 - 60*x + 74*y, x**2 - y, 6*x*y - y**2 + 6*x - 11*y], x, y, domain='ZZ', order='grevlex')\n",
      "Interation # 4\n",
      "\t J= GroebnerBasis([x*y**2 + 35*x*y - 10*y**2 + 24*x - 50*y, y**3 + 300*x*y - 65*y**2 + 240*x - 476*y, x**2 - y], x, y, domain='ZZ', order='grevlex')\n",
      "\t Widening\n",
      "\t After Widening: GroebnerBasis([x**2 - y], x, y, domain='ZZ', order='grevlex')\n",
      "Interation # 5\n",
      "\t J= GroebnerBasis([x**2 - y], x, y, domain='ZZ', order='grevlex')\n",
      "\t Widening\n",
      "\t After Widening: GroebnerBasis([x**2 - y], x, y, domain='ZZ', order='grevlex')\n",
      "GroebnerBasis([x**2 - y], x, y, domain='ZZ', order='grevlex')\n"
     ]
    }
   ],
   "source": [
    "I = perform_abstract_interpretation(init_cond, loop_transition_relations, prog_vars, primed_prog_vars)\n",
    "print(I)"
   ]
  },
  {
   "cell_type": "markdown",
   "id": "708e2f76-12e8-4c8a-a001-7c7ace9b0646",
   "metadata": {},
   "source": [
    "## Integer Division (Manna'1974)\n",
    "\n",
    "```{.python} \n",
    "# Integer division from Manna 1974\n",
    "def div(x1, x2):\n",
    "  (y1, y2, y3, y4) = (x1, x2, 1, 0)\n",
    "  while y1 >= y2: # Inv: y2 - y3 * x2 == 0, y1*y3 + y2*y4 − y3*x1 == 0\n",
    "     (y2, y3) = (2 * y2, 2 * y3)\n",
    "  while True: # Inv: y2 - y3 * x2 == 0, y1*y3 + y2*y4 − y3*x1 == 0\n",
    "     if y1 >= y2: \n",
    "        (y1, y4) = (y1 - y2, y3 + y4)\n",
    "     if y3 == 1: \n",
    "        return y4, y1 # Prove: x1 = y1 + x2 * y4\n",
    "     (y2, y3) = (y2 / 2, y3 / 2) # y2, y3 are  even, before division\n",
    "```"
   ]
  },
  {
   "cell_type": "code",
   "execution_count": 77,
   "id": "b34a2880-4d21-480b-b14f-54e429e561fa",
   "metadata": {},
   "outputs": [],
   "source": [
    "prog_vars_names= ['x1', 'x2', 'y1', 'y2', 'y3', 'y4']\n",
    "prog_vars_primed_names = ['x1p', 'x2p', 'y1p', 'y2p', 'y3p', 'y4p']\n",
    "prog_vars = [sp.Symbol(p) for p in prog_vars_names]\n",
    "prog_vars_primed = [sp.Symbol(p) for p in prog_vars_primed_names]\n",
    "[x1, x2, y1, y2, y3, y4] = prog_vars \n",
    "[x1p, x2p, y1p, y2p, y3p, y4p] = prog_vars_primed \n"
   ]
  },
  {
   "cell_type": "code",
   "execution_count": 78,
   "id": "8431881c-4291-46be-bc55-6d1dc772bdf8",
   "metadata": {},
   "outputs": [],
   "source": [
    "init_cond = [x1 - y1, x2 - y2, y3 - 1, y4 ]\n",
    "I0 = mk_groebner_basis(init_cond, prog_vars)\n",
    "\n",
    "\n"
   ]
  },
  {
   "cell_type": "code",
   "execution_count": 79,
   "id": "a0b6f75b-4fbe-401b-8929-8b389c604b98",
   "metadata": {},
   "outputs": [
    {
     "name": "stdout",
     "output_type": "stream",
     "text": [
      "GroebnerBasis([x1 - y1, 2*x2 - y2, y3 - 2, y4], x1, x2, y1, y2, y3, y4, domain='ZZ', order='grevlex')\n"
     ]
    }
   ],
   "source": [
    "trans_rels_loop_0 = [ [x1p - x1, x2p - x2, y2p - sp.Rational(2,1) * y2, y3p -  sp.Rational(2,1) * y3, y1p - y1 , y4p - y4] ]\n",
    "\n",
    "print(compute_post_cond_elim(I0, trans_rels_loop_0[0], prog_vars, prog_vars_primed))"
   ]
  },
  {
   "cell_type": "code",
   "execution_count": 80,
   "id": "559ac14f-cea0-46a2-bde6-32a2ce378869",
   "metadata": {},
   "outputs": [
    {
     "name": "stdout",
     "output_type": "stream",
     "text": [
      "Interation # 1\n",
      "\t J= GroebnerBasis([2*x2**2 - 3*x2*y2 + y2**2, x2*y3 - y2, y2*y3 + 2*x2 - 3*y2, y3**2 - 3*y3 + 2, x1 - y1, y4], x1, x2, y1, y2, y3, y4, domain='ZZ', order='grevlex')\n",
      "Interation # 2\n",
      "\t J= GroebnerBasis([8*x2**3 - 14*x2**2*y2 + 7*x2*y2**2 - y2**3, y2**2*y3 - 8*x2**2 + 14*x2*y2 - 7*y2**2, y2*y3**2 - 7*y2*y3 - 8*x2 + 14*y2, y3**3 - 7*y3**2 + 14*y3 - 8, x2*y3 - y2, x1 - y1, y4], x1, x2, y1, y2, y3, y4, domain='ZZ', order='grevlex')\n",
      "Interation # 3\n",
      "\t J= GroebnerBasis([64*x2**4 - 120*x2**3*y2 + 70*x2**2*y2**2 - 15*x2*y2**3 + y2**4, y2**3*y3 + 64*x2**3 - 120*x2**2*y2 + 70*x2*y2**2 - 15*y2**3, y2**2*y3**2 - 15*y2**2*y3 + 64*x2**2 - 120*x2*y2 + 70*y2**2, y2*y3**3 - 15*y2*y3**2 + 70*y2*y3 + 64*x2 - 120*y2, y3**4 - 15*y3**3 + 70*y3**2 - 120*y3 + 64, x2*y3 - y2, x1 - y1, y4], x1, x2, y1, y2, y3, y4, domain='ZZ', order='grevlex')\n",
      "Interation # 4\n",
      "\t J= GroebnerBasis([1024*x2**5 - 1984*x2**4*y2 + 1240*x2**3*y2**2 - 310*x2**2*y2**3 + 31*x2*y2**4 - y2**5, y2**4*y3 - 1024*x2**4 + 1984*x2**3*y2 - 1240*x2**2*y2**2 + 310*x2*y2**3 - 31*y2**4, y2**3*y3**2 - 31*y2**3*y3 - 1024*x2**3 + 1984*x2**2*y2 - 1240*x2*y2**2 + 310*y2**3, y2**2*y3**3 - 31*y2**2*y3**2 + 310*y2**2*y3 - 1024*x2**2 + 1984*x2*y2 - 1240*y2**2, y2*y3**4 - 31*y2*y3**3 + 310*y2*y3**2 - 1240*y2*y3 - 1024*x2 + 1984*y2, y3**5 - 31*y3**4 + 310*y3**3 - 1240*y3**2 + 1984*y3 - 1024, x2*y3 - y2, x1 - y1, y4], x1, x2, y1, y2, y3, y4, domain='ZZ', order='grevlex')\n",
      "\t Widening\n",
      "\t After Widening: GroebnerBasis([x2*y3 - y2, x1 - y1, y4], x1, x2, y1, y2, y3, y4, domain='ZZ', order='grevlex')\n",
      "Interation # 5\n",
      "\t J= GroebnerBasis([x2*y3 - y2, x1 - y1, y4], x1, x2, y1, y2, y3, y4, domain='ZZ', order='grevlex')\n",
      "\t Widening\n",
      "\t After Widening: GroebnerBasis([x2*y3 - y2, x1 - y1, y4], x1, x2, y1, y2, y3, y4, domain='ZZ', order='grevlex')\n"
     ]
    }
   ],
   "source": [
    "I = perform_abstract_interpretation(init_cond, trans_rels_loop_0, prog_vars, prog_vars_primed)"
   ]
  },
  {
   "cell_type": "code",
   "execution_count": 81,
   "id": "53a1628d-7090-4e7a-a74c-bfbbb2c2d5a2",
   "metadata": {},
   "outputs": [],
   "source": [
    "trans_rels_loop_1 = [ [ 2* y2p - y2, 2*y3p  - y3, y1p - y1, y4p - y4, x2p - x2, x1p - x1 ], # y2 = y2/2, y3 = y3/2\n",
    "                      [ y1p - y1 + y2, 2*y3p - y3, 2* y2p - y2, y4p - y4 -y3, x2p - x2, x1p - x1]\n",
    "                    ]"
   ]
  },
  {
   "cell_type": "code",
   "execution_count": 82,
   "id": "5e5b4416-fe85-4b92-a2d0-47c9583b38df",
   "metadata": {},
   "outputs": [
    {
     "name": "stdout",
     "output_type": "stream",
     "text": [
      "Interation # 1\n",
      "\t J= GroebnerBasis([x1**2 - 2*x1*y1 + y1**2 - 2*x1*y2 + 2*y1*y2, x1*y3 - y1*y3 - y2*y4, x2*y3 - y2, x1*y4 - y1*y4 - 2*y2*y4, x2*y4 - x1 + y1, 2*y3*y4 - y4**2], x1, x2, y1, y2, y3, y4, domain='ZZ', order='grevlex')\n",
      "Interation # 2\n",
      "\t J= GroebnerBasis([x1**4 - 4*x1**3*y1 + 6*x1**2*y1**2 - 4*x1*y1**3 + y1**4 - 12*x1**3*y2 + 36*x1**2*y1*y2 - 36*x1*y1**2*y2 + 12*y1**3*y2 + 44*x1**2*y2**2 - 88*x1*y1*y2**2 + 44*y1**2*y2**2 - 48*x1*y2**3 + 48*y1*y2**3, x1**3*y4 - 3*x1**2*y1*y4 + 3*x1*y1**2*y4 - y1**3*y4 - 12*x1**2*y2*y4 + 24*x1*y1*y2*y4 - 12*y1**2*y2*y4 + 44*x1*y2**2*y4 - 44*y1*y2**2*y4 - 48*y2**3*y4, 48*y2**2*y3*y4 - x1**2*y4**2 + 2*x1*y1*y4**2 - y1**2*y4**2 + 12*x1*y2*y4**2 - 12*y1*y2*y4**2 - 44*y2**2*y4**2, 48*y2*y3**2*y4 - 44*y2*y3*y4**2 - x1*y4**3 + y1*y4**3 + 12*y2*y4**3, 48*y3**3*y4 - 44*y3**2*y4**2 + 12*y3*y4**3 - y4**4, x1*y3 - y1*y3 - y2*y4, x2*y3 - y2, x2*y4 - x1 + y1], x1, x2, y1, y2, y3, y4, domain='ZZ', order='grevlex')\n",
      "Interation # 3\n",
      "\t J= GroebnerBasis([x1**8 - 8*x1**7*y1 + 28*x1**6*y1**2 - 56*x1**5*y1**3 + 70*x1**4*y1**4 - 56*x1**3*y1**5 + 28*x1**2*y1**6 - 8*x1*y1**7 + y1**8 - 56*x1**7*y2 + 392*x1**6*y1*y2 - 1176*x1**5*y1**2*y2 + 1960*x1**4*y1**3*y2 - 1960*x1**3*y1**4*y2 + 1176*x1**2*y1**5*y2 - 392*x1*y1**6*y2 + 56*y1**7*y2 + 1288*x1**6*y2**2 - 7728*x1**5*y1*y2**2 + 19320*x1**4*y1**2*y2**2 - 25760*x1**3*y1**3*y2**2 + 19320*x1**2*y1**4*y2**2 - 7728*x1*y1**5*y2**2 + 1288*y1**6*y2**2 - 15680*x1**5*y2**3 + 78400*x1**4*y1*y2**3 - 156800*x1**3*y1**2*y2**3 + 156800*x1**2*y1**3*y2**3 - 78400*x1*y1**4*y2**3 + 15680*y1**5*y2**3 + 108304*x1**4*y2**4 - 433216*x1**3*y1*y2**4 + 649824*x1**2*y1**2*y2**4 - 433216*x1*y1**3*y2**4 + 108304*y1**4*y2**4 - 420224*x1**3*y2**5 + 1260672*x1**2*y1*y2**5 - 1260672*x1*y1**2*y2**5 + 420224*y1**3*y2**5 + 836352*x1**2*y2**6 - 1672704*x1*y1*y2**6 + 836352*y1**2*y2**6 - 645120*x1*y2**7 + 645120*y1*y2**7, x1**7*y4 - 7*x1**6*y1*y4 + 21*x1**5*y1**2*y4 - 35*x1**4*y1**3*y4 + 35*x1**3*y1**4*y4 - 21*x1**2*y1**5*y4 + 7*x1*y1**6*y4 - y1**7*y4 - 56*x1**6*y2*y4 + 336*x1**5*y1*y2*y4 - 840*x1**4*y1**2*y2*y4 + 1120*x1**3*y1**3*y2*y4 - 840*x1**2*y1**4*y2*y4 + 336*x1*y1**5*y2*y4 - 56*y1**6*y2*y4 + 1288*x1**5*y2**2*y4 - 6440*x1**4*y1*y2**2*y4 + 12880*x1**3*y1**2*y2**2*y4 - 12880*x1**2*y1**3*y2**2*y4 + 6440*x1*y1**4*y2**2*y4 - 1288*y1**5*y2**2*y4 - 15680*x1**4*y2**3*y4 + 62720*x1**3*y1*y2**3*y4 - 94080*x1**2*y1**2*y2**3*y4 + 62720*x1*y1**3*y2**3*y4 - 15680*y1**4*y2**3*y4 + 108304*x1**3*y2**4*y4 - 324912*x1**2*y1*y2**4*y4 + 324912*x1*y1**2*y2**4*y4 - 108304*y1**3*y2**4*y4 - 420224*x1**2*y2**5*y4 + 840448*x1*y1*y2**5*y4 - 420224*y1**2*y2**5*y4 + 836352*x1*y2**6*y4 - 836352*y1*y2**6*y4 - 645120*y2**7*y4, 645120*y2**6*y3*y4 - x1**6*y4**2 + 6*x1**5*y1*y4**2 - 15*x1**4*y1**2*y4**2 + 20*x1**3*y1**3*y4**2 - 15*x1**2*y1**4*y4**2 + 6*x1*y1**5*y4**2 - y1**6*y4**2 + 56*x1**5*y2*y4**2 - 280*x1**4*y1*y2*y4**2 + 560*x1**3*y1**2*y2*y4**2 - 560*x1**2*y1**3*y2*y4**2 + 280*x1*y1**4*y2*y4**2 - 56*y1**5*y2*y4**2 - 1288*x1**4*y2**2*y4**2 + 5152*x1**3*y1*y2**2*y4**2 - 7728*x1**2*y1**2*y2**2*y4**2 + 5152*x1*y1**3*y2**2*y4**2 - 1288*y1**4*y2**2*y4**2 + 15680*x1**3*y2**3*y4**2 - 47040*x1**2*y1*y2**3*y4**2 + 47040*x1*y1**2*y2**3*y4**2 - 15680*y1**3*y2**3*y4**2 - 108304*x1**2*y2**4*y4**2 + 216608*x1*y1*y2**4*y4**2 - 108304*y1**2*y2**4*y4**2 + 420224*x1*y2**5*y4**2 - 420224*y1*y2**5*y4**2 - 836352*y2**6*y4**2, 645120*y2**5*y3**2*y4 - 836352*y2**5*y3*y4**2 - x1**5*y4**3 + 5*x1**4*y1*y4**3 - 10*x1**3*y1**2*y4**3 + 10*x1**2*y1**3*y4**3 - 5*x1*y1**4*y4**3 + y1**5*y4**3 + 56*x1**4*y2*y4**3 - 224*x1**3*y1*y2*y4**3 + 336*x1**2*y1**2*y2*y4**3 - 224*x1*y1**3*y2*y4**3 + 56*y1**4*y2*y4**3 - 1288*x1**3*y2**2*y4**3 + 3864*x1**2*y1*y2**2*y4**3 - 3864*x1*y1**2*y2**2*y4**3 + 1288*y1**3*y2**2*y4**3 + 15680*x1**2*y2**3*y4**3 - 31360*x1*y1*y2**3*y4**3 + 15680*y1**2*y2**3*y4**3 - 108304*x1*y2**4*y4**3 + 108304*y1*y2**4*y4**3 + 420224*y2**5*y4**3, 645120*y2**4*y3**3*y4 - 836352*y2**4*y3**2*y4**2 + 420224*y2**4*y3*y4**3 - x1**4*y4**4 + 4*x1**3*y1*y4**4 - 6*x1**2*y1**2*y4**4 + 4*x1*y1**3*y4**4 - y1**4*y4**4 + 56*x1**3*y2*y4**4 - 168*x1**2*y1*y2*y4**4 + 168*x1*y1**2*y2*y4**4 - 56*y1**3*y2*y4**4 - 1288*x1**2*y2**2*y4**4 + 2576*x1*y1*y2**2*y4**4 - 1288*y1**2*y2**2*y4**4 + 15680*x1*y2**3*y4**4 - 15680*y1*y2**3*y4**4 - 108304*y2**4*y4**4, 645120*y2**3*y3**4*y4 - 836352*y2**3*y3**3*y4**2 + 420224*y2**3*y3**2*y4**3 - 108304*y2**3*y3*y4**4 - x1**3*y4**5 + 3*x1**2*y1*y4**5 - 3*x1*y1**2*y4**5 + y1**3*y4**5 + 56*x1**2*y2*y4**5 - 112*x1*y1*y2*y4**5 + 56*y1**2*y2*y4**5 - 1288*x1*y2**2*y4**5 + 1288*y1*y2**2*y4**5 + 15680*y2**3*y4**5, 645120*y2**2*y3**5*y4 - 836352*y2**2*y3**4*y4**2 + 420224*y2**2*y3**3*y4**3 - 108304*y2**2*y3**2*y4**4 + 15680*y2**2*y3*y4**5 - x1**2*y4**6 + 2*x1*y1*y4**6 - y1**2*y4**6 + 56*x1*y2*y4**6 - 56*y1*y2*y4**6 - 1288*y2**2*y4**6, 645120*y2*y3**6*y4 - 836352*y2*y3**5*y4**2 + 420224*y2*y3**4*y4**3 - 108304*y2*y3**3*y4**4 + 15680*y2*y3**2*y4**5 - 1288*y2*y3*y4**6 - x1*y4**7 + y1*y4**7 + 56*y2*y4**7, 645120*y3**7*y4 - 836352*y3**6*y4**2 + 420224*y3**5*y4**3 - 108304*y3**4*y4**4 + 15680*y3**3*y4**5 - 1288*y3**2*y4**6 + 56*y3*y4**7 - y4**8, x1*y3 - y1*y3 - y2*y4, x2*y3 - y2, x2*y4 - x1 + y1], x1, x2, y1, y2, y3, y4, domain='ZZ', order='grevlex')\n",
      "Interation # 4\n",
      "\t J= GroebnerBasis([x1**16 - 16*x1**15*y1 + 120*x1**14*y1**2 - 560*x1**13*y1**3 + 1820*x1**12*y1**4 - 4368*x1**11*y1**5 + 8008*x1**10*y1**6 - 11440*x1**9*y1**7 + 12870*x1**8*y1**8 - 11440*x1**7*y1**9 + 8008*x1**6*y1**10 - 4368*x1**5*y1**11 + 1820*x1**4*y1**12 - 560*x1**3*y1**13 + 120*x1**2*y1**14 - 16*x1*y1**15 + y1**16 - 240*x1**15*y2 + 3600*x1**14*y1*y2 - 25200*x1**13*y1**2*y2 + 109200*x1**12*y1**3*y2 - 327600*x1**11*y1**4*y2 + 720720*x1**10*y1**5*y2 - 1201200*x1**9*y1**6*y2 + 1544400*x1**8*y1**7*y2 - 1544400*x1**7*y1**8*y2 + 1201200*x1**6*y1**9*y2 - 720720*x1**5*y1**10*y2 + 327600*x1**4*y1**11*y2 - 109200*x1**3*y1**12*y2 + 25200*x1**2*y1**13*y2 - 3600*x1*y1**14*y2 + 240*y1**15*y2 + 26320*x1**14*y2**2 - 368480*x1**13*y1*y2**2 + 2395120*x1**12*y1**2*y2**2 - 9580480*x1**11*y1**3*y2**2 + 26346320*x1**10*y1**4*y2**2 - 52692640*x1**9*y1**5*y2**2 + 79038960*x1**8*y1**6*y2**2 - 90330240*x1**7*y1**7*y2**2 + 79038960*x1**6*y1**8*y2**2 - 52692640*x1**5*y1**9*y2**2 + 26346320*x1**4*y1**10*y2**2 - 9580480*x1**3*y1**11*y2**2 + 2395120*x1**2*y1**12*y2**2 - 368480*x1*y1**13*y2**2 + 26320*y1**14*y2**2 - 1747200*x1**13*y2**3 + 22713600*x1**12*y1*y2**3 - 136281600*x1**11*y1**2*y2**3 + 499699200*x1**10*y1**3*y2**3 - 1249248000*x1**9*y1**4*y2**3 + 2248646400*x1**8*y1**5*y2**3 - 2998195200*x1**7*y1**6*y2**3 + 2998195200*x1**6*y1**7*y2**3 - 2248646400*x1**5*y1**8*y2**3 + 1249248000*x1**4*y1**9*y2**3 - 499699200*x1**3*y1**10*y2**3 + 136281600*x1**2*y1**11*y2**3 - 22713600*x1*y1**12*y2**3 + 1747200*y1**13*y2**3 + 78393952*x1**12*y2**4 - 940727424*x1**11*y1*y2**4 + 5174000832*x1**10*y1**2*y2**4 - 17246669440*x1**9*y1**3*y2**4 + 38805006240*x1**8*y1**4*y2**4 - 62088009984*x1**7*y1**5*y2**4 + 72436011648*x1**6*y1**6*y2**4 - 62088009984*x1**5*y1**7*y2**4 + 38805006240*x1**4*y1**8*y2**4 - 17246669440*x1**3*y1**9*y2**4 + 5174000832*x1**2*y1**10*y2**4 - 940727424*x1*y1**11*y2**4 + 78393952*y1**12*y2**4 - 2513871360*x1**11*y2**5 + 27652584960*x1**10*y1*y2**5 - 138262924800*x1**9*y1**2*y2**5 + 414788774400*x1**8*y1**3*y2**5 - 829577548800*x1**7*y1**4*y2**5 + 1161408568320*x1**6*y1**5*y2**5 - 1161408568320*x1**5*y1**6*y2**5 + 829577548800*x1**4*y1**7*y2**5 - 414788774400*x1**3*y1**8*y2**5 + 138262924800*x1**2*y1**9*y2**5 - 27652584960*x1*y1**10*y2**5 + 2513871360*y1**11*y2**5 + 59398127360*x1**10*y2**6 - 593981273600*x1**9*y1*y2**6 + 2672915731200*x1**8*y1**2*y2**6 - 7127775283200*x1**7*y1**3*y2**6 + 12473606745600*x1**6*y1**4*y2**6 - 14968328094720*x1**5*y1**5*y2**6 + 12473606745600*x1**4*y1**6*y2**6 - 7127775283200*x1**3*y1**7*y2**6 + 2672915731200*x1**2*y1**8*y2**6 - 593981273600*x1*y1**9*y2**6 + 59398127360*y1**10*y2**6 - 1050576384000*x1**9*y2**7 + 9455187456000*x1**8*y1*y2**7 - 37820749824000*x1**7*y1**2*y2**7 + 88248416256000*x1**6*y1**3*y2**7 - 132372624384000*x1**5*y1**4*y2**7 + 132372624384000*x1**4*y1**5*y2**7 - 88248416256000*x1**3*y1**6*y2**7 + 37820749824000*x1**2*y1**7*y2**7 - 9455187456000*x1*y1**8*y2**7 + 1050576384000*y1**9*y2**7 + 13985569165568*x1**8*y2**8 - 111884553324544*x1**7*y1*y2**8 + 391595936635904*x1**6*y1**2*y2**8 - 783191873271808*x1**5*y1**3*y2**8 + 978989841589760*x1**4*y1**4*y2**8 - 783191873271808*x1**3*y1**5*y2**8 + 391595936635904*x1**2*y1**6*y2**8 - 111884553324544*x1*y1**7*y2**8 + 13985569165568*y1**8*y2**8 - 139675243868160*x1**7*y2**9 + 977726707077120*x1**6*y1*y2**9 - 2933180121231360*x1**5*y1**2*y2**9 + 4888633535385600*x1**4*y1**3*y2**9 - 4888633535385600*x1**3*y1**4*y2**9 + 2933180121231360*x1**2*y1**5*y2**9 - 977726707077120*x1*y1**6*y2**9 + 139675243868160*y1**7*y2**9 + 1033904237649920*x1**6*y2**10 - 6203425425899520*x1**5*y1*y2**10 + 15508563564748800*x1**4*y1**2*y2**10 - 20678084752998400*x1**3*y1**3*y2**10 + 15508563564748800*x1**2*y1**4*y2**10 - 6203425425899520*x1*y1**5*y2**10 + 1033904237649920*y1**6*y2**10 - 5543553731788800*x1**5*y2**11 + 27717768658944000*x1**4*y1*y2**11 - 55435537317888000*x1**3*y1**2*y2**11 + 55435537317888000*x1**2*y1**3*y2**11 - 27717768658944000*x1*y1**4*y2**11 + 5543553731788800*y1**5*y2**11 + 20713454402863104*x1**4*y2**12 - 82853817611452416*x1**3*y1*y2**12 + 124280726417178624*x1**2*y1**2*y2**12 - 82853817611452416*x1*y1**3*y2**12 + 20713454402863104*y1**4*y2**12 - 50510377899786240*x1**3*y2**13 + 151531133699358720*x1**2*y1*y2**13 - 151531133699358720*x1*y1**2*y2**13 + 50510377899786240*y1**3*y2**13 + 71092846618214400*x1**2*y2**14 - 142185693236428800*x1*y1*y2**14 + 71092846618214400*y1**2*y2**14 - 42849873690624000*x1*y2**15 + 42849873690624000*y1*y2**15, x1**15*y4 - 15*x1**14*y1*y4 + 105*x1**13*y1**2*y4 - 455*x1**12*y1**3*y4 + 1365*x1**11*y1**4*y4 - 3003*x1**10*y1**5*y4 + 5005*x1**9*y1**6*y4 - 6435*x1**8*y1**7*y4 + 6435*x1**7*y1**8*y4 - 5005*x1**6*y1**9*y4 + 3003*x1**5*y1**10*y4 - 1365*x1**4*y1**11*y4 + 455*x1**3*y1**12*y4 - 105*x1**2*y1**13*y4 + 15*x1*y1**14*y4 - y1**15*y4 - 240*x1**14*y2*y4 + 3360*x1**13*y1*y2*y4 - 21840*x1**12*y1**2*y2*y4 + 87360*x1**11*y1**3*y2*y4 - 240240*x1**10*y1**4*y2*y4 + 480480*x1**9*y1**5*y2*y4 - 720720*x1**8*y1**6*y2*y4 + 823680*x1**7*y1**7*y2*y4 - 720720*x1**6*y1**8*y2*y4 + 480480*x1**5*y1**9*y2*y4 - 240240*x1**4*y1**10*y2*y4 + 87360*x1**3*y1**11*y2*y4 - 21840*x1**2*y1**12*y2*y4 + 3360*x1*y1**13*y2*y4 - 240*y1**14*y2*y4 + 26320*x1**13*y2**2*y4 - 342160*x1**12*y1*y2**2*y4 + 2052960*x1**11*y1**2*y2**2*y4 - 7527520*x1**10*y1**3*y2**2*y4 + 18818800*x1**9*y1**4*y2**2*y4 - 33873840*x1**8*y1**5*y2**2*y4 + 45165120*x1**7*y1**6*y2**2*y4 - 45165120*x1**6*y1**7*y2**2*y4 + 33873840*x1**5*y1**8*y2**2*y4 - 18818800*x1**4*y1**9*y2**2*y4 + 7527520*x1**3*y1**10*y2**2*y4 - 2052960*x1**2*y1**11*y2**2*y4 + 342160*x1*y1**12*y2**2*y4 - 26320*y1**13*y2**2*y4 - 1747200*x1**12*y2**3*y4 + 20966400*x1**11*y1*y2**3*y4 - 115315200*x1**10*y1**2*y2**3*y4 + 384384000*x1**9*y1**3*y2**3*y4 - 864864000*x1**8*y1**4*y2**3*y4 + 1383782400*x1**7*y1**5*y2**3*y4 - 1614412800*x1**6*y1**6*y2**3*y4 + 1383782400*x1**5*y1**7*y2**3*y4 - 864864000*x1**4*y1**8*y2**3*y4 + 384384000*x1**3*y1**9*y2**3*y4 - 115315200*x1**2*y1**10*y2**3*y4 + 20966400*x1*y1**11*y2**3*y4 - 1747200*y1**12*y2**3*y4 + 78393952*x1**11*y2**4*y4 - 862333472*x1**10*y1*y2**4*y4 + 4311667360*x1**9*y1**2*y2**4*y4 - 12935002080*x1**8*y1**3*y2**4*y4 + 25870004160*x1**7*y1**4*y2**4*y4 - 36218005824*x1**6*y1**5*y2**4*y4 + 36218005824*x1**5*y1**6*y2**4*y4 - 25870004160*x1**4*y1**7*y2**4*y4 + 12935002080*x1**3*y1**8*y2**4*y4 - 4311667360*x1**2*y1**9*y2**4*y4 + 862333472*x1*y1**10*y2**4*y4 - 78393952*y1**11*y2**4*y4 - 2513871360*x1**10*y2**5*y4 + 25138713600*x1**9*y1*y2**5*y4 - 113124211200*x1**8*y1**2*y2**5*y4 + 301664563200*x1**7*y1**3*y2**5*y4 - 527912985600*x1**6*y1**4*y2**5*y4 + 633495582720*x1**5*y1**5*y2**5*y4 - 527912985600*x1**4*y1**6*y2**5*y4 + 301664563200*x1**3*y1**7*y2**5*y4 - 113124211200*x1**2*y1**8*y2**5*y4 + 25138713600*x1*y1**9*y2**5*y4 - 2513871360*y1**10*y2**5*y4 + 59398127360*x1**9*y2**6*y4 - 534583146240*x1**8*y1*y2**6*y4 + 2138332584960*x1**7*y1**2*y2**6*y4 - 4989442698240*x1**6*y1**3*y2**6*y4 + 7484164047360*x1**5*y1**4*y2**6*y4 - 7484164047360*x1**4*y1**5*y2**6*y4 + 4989442698240*x1**3*y1**6*y2**6*y4 - 2138332584960*x1**2*y1**7*y2**6*y4 + 534583146240*x1*y1**8*y2**6*y4 - 59398127360*y1**9*y2**6*y4 - 1050576384000*x1**8*y2**7*y4 + 8404611072000*x1**7*y1*y2**7*y4 - 29416138752000*x1**6*y1**2*y2**7*y4 + 58832277504000*x1**5*y1**3*y2**7*y4 - 73540346880000*x1**4*y1**4*y2**7*y4 + 58832277504000*x1**3*y1**5*y2**7*y4 - 29416138752000*x1**2*y1**6*y2**7*y4 + 8404611072000*x1*y1**7*y2**7*y4 - 1050576384000*y1**8*y2**7*y4 + 13985569165568*x1**7*y2**8*y4 - 97898984158976*x1**6*y1*y2**8*y4 + 293696952476928*x1**5*y1**2*y2**8*y4 - 489494920794880*x1**4*y1**3*y2**8*y4 + 489494920794880*x1**3*y1**4*y2**8*y4 - 293696952476928*x1**2*y1**5*y2**8*y4 + 97898984158976*x1*y1**6*y2**8*y4 - 13985569165568*y1**7*y2**8*y4 - 139675243868160*x1**6*y2**9*y4 + 838051463208960*x1**5*y1*y2**9*y4 - 2095128658022400*x1**4*y1**2*y2**9*y4 + 2793504877363200*x1**3*y1**3*y2**9*y4 - 2095128658022400*x1**2*y1**4*y2**9*y4 + 838051463208960*x1*y1**5*y2**9*y4 - 139675243868160*y1**6*y2**9*y4 + 1033904237649920*x1**5*y2**10*y4 - 5169521188249600*x1**4*y1*y2**10*y4 + 10339042376499200*x1**3*y1**2*y2**10*y4 - 10339042376499200*x1**2*y1**3*y2**10*y4 + 5169521188249600*x1*y1**4*y2**10*y4 - 1033904237649920*y1**5*y2**10*y4 - 5543553731788800*x1**4*y2**11*y4 + 22174214927155200*x1**3*y1*y2**11*y4 - 33261322390732800*x1**2*y1**2*y2**11*y4 + 22174214927155200*x1*y1**3*y2**11*y4 - 5543553731788800*y1**4*y2**11*y4 + 20713454402863104*x1**3*y2**12*y4 - 62140363208589312*x1**2*y1*y2**12*y4 + 62140363208589312*x1*y1**2*y2**12*y4 - 20713454402863104*y1**3*y2**12*y4 - 50510377899786240*x1**2*y2**13*y4 + 101020755799572480*x1*y1*y2**13*y4 - 50510377899786240*y1**2*y2**13*y4 + 71092846618214400*x1*y2**14*y4 - 71092846618214400*y1*y2**14*y4 - 42849873690624000*y2**15*y4, 42849873690624000*y2**14*y3*y4 - x1**14*y4**2 + 14*x1**13*y1*y4**2 - 91*x1**12*y1**2*y4**2 + 364*x1**11*y1**3*y4**2 - 1001*x1**10*y1**4*y4**2 + 2002*x1**9*y1**5*y4**2 - 3003*x1**8*y1**6*y4**2 + 3432*x1**7*y1**7*y4**2 - 3003*x1**6*y1**8*y4**2 + 2002*x1**5*y1**9*y4**2 - 1001*x1**4*y1**10*y4**2 + 364*x1**3*y1**11*y4**2 - 91*x1**2*y1**12*y4**2 + 14*x1*y1**13*y4**2 - y1**14*y4**2 + 240*x1**13*y2*y4**2 - 3120*x1**12*y1*y2*y4**2 + 18720*x1**11*y1**2*y2*y4**2 - 68640*x1**10*y1**3*y2*y4**2 + 171600*x1**9*y1**4*y2*y4**2 - 308880*x1**8*y1**5*y2*y4**2 + 411840*x1**7*y1**6*y2*y4**2 - 411840*x1**6*y1**7*y2*y4**2 + 308880*x1**5*y1**8*y2*y4**2 - 171600*x1**4*y1**9*y2*y4**2 + 68640*x1**3*y1**10*y2*y4**2 - 18720*x1**2*y1**11*y2*y4**2 + 3120*x1*y1**12*y2*y4**2 - 240*y1**13*y2*y4**2 - 26320*x1**12*y2**2*y4**2 + 315840*x1**11*y1*y2**2*y4**2 - 1737120*x1**10*y1**2*y2**2*y4**2 + 5790400*x1**9*y1**3*y2**2*y4**2 - 13028400*x1**8*y1**4*y2**2*y4**2 + 20845440*x1**7*y1**5*y2**2*y4**2 - 24319680*x1**6*y1**6*y2**2*y4**2 + 20845440*x1**5*y1**7*y2**2*y4**2 - 13028400*x1**4*y1**8*y2**2*y4**2 + 5790400*x1**3*y1**9*y2**2*y4**2 - 1737120*x1**2*y1**10*y2**2*y4**2 + 315840*x1*y1**11*y2**2*y4**2 - 26320*y1**12*y2**2*y4**2 + 1747200*x1**11*y2**3*y4**2 - 19219200*x1**10*y1*y2**3*y4**2 + 96096000*x1**9*y1**2*y2**3*y4**2 - 288288000*x1**8*y1**3*y2**3*y4**2 + 576576000*x1**7*y1**4*y2**3*y4**2 - 807206400*x1**6*y1**5*y2**3*y4**2 + 807206400*x1**5*y1**6*y2**3*y4**2 - 576576000*x1**4*y1**7*y2**3*y4**2 + 288288000*x1**3*y1**8*y2**3*y4**2 - 96096000*x1**2*y1**9*y2**3*y4**2 + 19219200*x1*y1**10*y2**3*y4**2 - 1747200*y1**11*y2**3*y4**2 - 78393952*x1**10*y2**4*y4**2 + 783939520*x1**9*y1*y2**4*y4**2 - 3527727840*x1**8*y1**2*y2**4*y4**2 + 9407274240*x1**7*y1**3*y2**4*y4**2 - 16462729920*x1**6*y1**4*y2**4*y4**2 + 19755275904*x1**5*y1**5*y2**4*y4**2 - 16462729920*x1**4*y1**6*y2**4*y4**2 + 9407274240*x1**3*y1**7*y2**4*y4**2 - 3527727840*x1**2*y1**8*y2**4*y4**2 + 783939520*x1*y1**9*y2**4*y4**2 - 78393952*y1**10*y2**4*y4**2 + 2513871360*x1**9*y2**5*y4**2 - 22624842240*x1**8*y1*y2**5*y4**2 + 90499368960*x1**7*y1**2*y2**5*y4**2 - 211165194240*x1**6*y1**3*y2**5*y4**2 + 316747791360*x1**5*y1**4*y2**5*y4**2 - 316747791360*x1**4*y1**5*y2**5*y4**2 + 211165194240*x1**3*y1**6*y2**5*y4**2 - 90499368960*x1**2*y1**7*y2**5*y4**2 + 22624842240*x1*y1**8*y2**5*y4**2 - 2513871360*y1**9*y2**5*y4**2 - 59398127360*x1**8*y2**6*y4**2 + 475185018880*x1**7*y1*y2**6*y4**2 - 1663147566080*x1**6*y1**2*y2**6*y4**2 + 3326295132160*x1**5*y1**3*y2**6*y4**2 - 4157868915200*x1**4*y1**4*y2**6*y4**2 + 3326295132160*x1**3*y1**5*y2**6*y4**2 - 1663147566080*x1**2*y1**6*y2**6*y4**2 + 475185018880*x1*y1**7*y2**6*y4**2 - 59398127360*y1**8*y2**6*y4**2 + 1050576384000*x1**7*y2**7*y4**2 - 7354034688000*x1**6*y1*y2**7*y4**2 + 22062104064000*x1**5*y1**2*y2**7*y4**2 - 36770173440000*x1**4*y1**3*y2**7*y4**2 + 36770173440000*x1**3*y1**4*y2**7*y4**2 - 22062104064000*x1**2*y1**5*y2**7*y4**2 + 7354034688000*x1*y1**6*y2**7*y4**2 - 1050576384000*y1**7*y2**7*y4**2 - 13985569165568*x1**6*y2**8*y4**2 + 83913414993408*x1**5*y1*y2**8*y4**2 - 209783537483520*x1**4*y1**2*y2**8*y4**2 + 279711383311360*x1**3*y1**3*y2**8*y4**2 - 209783537483520*x1**2*y1**4*y2**8*y4**2 + 83913414993408*x1*y1**5*y2**8*y4**2 - 13985569165568*y1**6*y2**8*y4**2 + 139675243868160*x1**5*y2**9*y4**2 - 698376219340800*x1**4*y1*y2**9*y4**2 + 1396752438681600*x1**3*y1**2*y2**9*y4**2 - 1396752438681600*x1**2*y1**3*y2**9*y4**2 + 698376219340800*x1*y1**4*y2**9*y4**2 - 139675243868160*y1**5*y2**9*y4**2 - 1033904237649920*x1**4*y2**10*y4**2 + 4135616950599680*x1**3*y1*y2**10*y4**2 - 6203425425899520*x1**2*y1**2*y2**10*y4**2 + 4135616950599680*x1*y1**3*y2**10*y4**2 - 1033904237649920*y1**4*y2**10*y4**2 + 5543553731788800*x1**3*y2**11*y4**2 - 16630661195366400*x1**2*y1*y2**11*y4**2 + 16630661195366400*x1*y1**2*y2**11*y4**2 - 5543553731788800*y1**3*y2**11*y4**2 - 20713454402863104*x1**2*y2**12*y4**2 + 41426908805726208*x1*y1*y2**12*y4**2 - 20713454402863104*y1**2*y2**12*y4**2 + 50510377899786240*x1*y2**13*y4**2 - 50510377899786240*y1*y2**13*y4**2 - 71092846618214400*y2**14*y4**2, 42849873690624000*y2**13*y3**2*y4 - 71092846618214400*y2**13*y3*y4**2 - x1**13*y4**3 + 13*x1**12*y1*y4**3 - 78*x1**11*y1**2*y4**3 + 286*x1**10*y1**3*y4**3 - 715*x1**9*y1**4*y4**3 + 1287*x1**8*y1**5*y4**3 - 1716*x1**7*y1**6*y4**3 + 1716*x1**6*y1**7*y4**3 - 1287*x1**5*y1**8*y4**3 + 715*x1**4*y1**9*y4**3 - 286*x1**3*y1**10*y4**3 + 78*x1**2*y1**11*y4**3 - 13*x1*y1**12*y4**3 + y1**13*y4**3 + 240*x1**12*y2*y4**3 - 2880*x1**11*y1*y2*y4**3 + 15840*x1**10*y1**2*y2*y4**3 - 52800*x1**9*y1**3*y2*y4**3 + 118800*x1**8*y1**4*y2*y4**3 - 190080*x1**7*y1**5*y2*y4**3 + 221760*x1**6*y1**6*y2*y4**3 - 190080*x1**5*y1**7*y2*y4**3 + 118800*x1**4*y1**8*y2*y4**3 - 52800*x1**3*y1**9*y2*y4**3 + 15840*x1**2*y1**10*y2*y4**3 - 2880*x1*y1**11*y2*y4**3 + 240*y1**12*y2*y4**3 - 26320*x1**11*y2**2*y4**3 + 289520*x1**10*y1*y2**2*y4**3 - 1447600*x1**9*y1**2*y2**2*y4**3 + 4342800*x1**8*y1**3*y2**2*y4**3 - 8685600*x1**7*y1**4*y2**2*y4**3 + 12159840*x1**6*y1**5*y2**2*y4**3 - 12159840*x1**5*y1**6*y2**2*y4**3 + 8685600*x1**4*y1**7*y2**2*y4**3 - 4342800*x1**3*y1**8*y2**2*y4**3 + 1447600*x1**2*y1**9*y2**2*y4**3 - 289520*x1*y1**10*y2**2*y4**3 + 26320*y1**11*y2**2*y4**3 + 1747200*x1**10*y2**3*y4**3 - 17472000*x1**9*y1*y2**3*y4**3 + 78624000*x1**8*y1**2*y2**3*y4**3 - 209664000*x1**7*y1**3*y2**3*y4**3 + 366912000*x1**6*y1**4*y2**3*y4**3 - 440294400*x1**5*y1**5*y2**3*y4**3 + 366912000*x1**4*y1**6*y2**3*y4**3 - 209664000*x1**3*y1**7*y2**3*y4**3 + 78624000*x1**2*y1**8*y2**3*y4**3 - 17472000*x1*y1**9*y2**3*y4**3 + 1747200*y1**10*y2**3*y4**3 - 78393952*x1**9*y2**4*y4**3 + 705545568*x1**8*y1*y2**4*y4**3 - 2822182272*x1**7*y1**2*y2**4*y4**3 + 6585091968*x1**6*y1**3*y2**4*y4**3 - 9877637952*x1**5*y1**4*y2**4*y4**3 + 9877637952*x1**4*y1**5*y2**4*y4**3 - 6585091968*x1**3*y1**6*y2**4*y4**3 + 2822182272*x1**2*y1**7*y2**4*y4**3 - 705545568*x1*y1**8*y2**4*y4**3 + 78393952*y1**9*y2**4*y4**3 + 2513871360*x1**8*y2**5*y4**3 - 20110970880*x1**7*y1*y2**5*y4**3 + 70388398080*x1**6*y1**2*y2**5*y4**3 - 140776796160*x1**5*y1**3*y2**5*y4**3 + 175970995200*x1**4*y1**4*y2**5*y4**3 - 140776796160*x1**3*y1**5*y2**5*y4**3 + 70388398080*x1**2*y1**6*y2**5*y4**3 - 20110970880*x1*y1**7*y2**5*y4**3 + 2513871360*y1**8*y2**5*y4**3 - 59398127360*x1**7*y2**6*y4**3 + 415786891520*x1**6*y1*y2**6*y4**3 - 1247360674560*x1**5*y1**2*y2**6*y4**3 + 2078934457600*x1**4*y1**3*y2**6*y4**3 - 2078934457600*x1**3*y1**4*y2**6*y4**3 + 1247360674560*x1**2*y1**5*y2**6*y4**3 - 415786891520*x1*y1**6*y2**6*y4**3 + 59398127360*y1**7*y2**6*y4**3 + 1050576384000*x1**6*y2**7*y4**3 - 6303458304000*x1**5*y1*y2**7*y4**3 + 15758645760000*x1**4*y1**2*y2**7*y4**3 - 21011527680000*x1**3*y1**3*y2**7*y4**3 + 15758645760000*x1**2*y1**4*y2**7*y4**3 - 6303458304000*x1*y1**5*y2**7*y4**3 + 1050576384000*y1**6*y2**7*y4**3 - 13985569165568*x1**5*y2**8*y4**3 + 69927845827840*x1**4*y1*y2**8*y4**3 - 139855691655680*x1**3*y1**2*y2**8*y4**3 + 139855691655680*x1**2*y1**3*y2**8*y4**3 - 69927845827840*x1*y1**4*y2**8*y4**3 + 13985569165568*y1**5*y2**8*y4**3 + 139675243868160*x1**4*y2**9*y4**3 - 558700975472640*x1**3*y1*y2**9*y4**3 + 838051463208960*x1**2*y1**2*y2**9*y4**3 - 558700975472640*x1*y1**3*y2**9*y4**3 + 139675243868160*y1**4*y2**9*y4**3 - 1033904237649920*x1**3*y2**10*y4**3 + 3101712712949760*x1**2*y1*y2**10*y4**3 - 3101712712949760*x1*y1**2*y2**10*y4**3 + 1033904237649920*y1**3*y2**10*y4**3 + 5543553731788800*x1**2*y2**11*y4**3 - 11087107463577600*x1*y1*y2**11*y4**3 + 5543553731788800*y1**2*y2**11*y4**3 - 20713454402863104*x1*y2**12*y4**3 + 20713454402863104*y1*y2**12*y4**3 + 50510377899786240*y2**13*y4**3, 42849873690624000*y2**12*y3**3*y4 - 71092846618214400*y2**12*y3**2*y4**2 + 50510377899786240*y2**12*y3*y4**3 - x1**12*y4**4 + 12*x1**11*y1*y4**4 - 66*x1**10*y1**2*y4**4 + 220*x1**9*y1**3*y4**4 - 495*x1**8*y1**4*y4**4 + 792*x1**7*y1**5*y4**4 - 924*x1**6*y1**6*y4**4 + 792*x1**5*y1**7*y4**4 - 495*x1**4*y1**8*y4**4 + 220*x1**3*y1**9*y4**4 - 66*x1**2*y1**10*y4**4 + 12*x1*y1**11*y4**4 - y1**12*y4**4 + 240*x1**11*y2*y4**4 - 2640*x1**10*y1*y2*y4**4 + 13200*x1**9*y1**2*y2*y4**4 - 39600*x1**8*y1**3*y2*y4**4 + 79200*x1**7*y1**4*y2*y4**4 - 110880*x1**6*y1**5*y2*y4**4 + 110880*x1**5*y1**6*y2*y4**4 - 79200*x1**4*y1**7*y2*y4**4 + 39600*x1**3*y1**8*y2*y4**4 - 13200*x1**2*y1**9*y2*y4**4 + 2640*x1*y1**10*y2*y4**4 - 240*y1**11*y2*y4**4 - 26320*x1**10*y2**2*y4**4 + 263200*x1**9*y1*y2**2*y4**4 - 1184400*x1**8*y1**2*y2**2*y4**4 + 3158400*x1**7*y1**3*y2**2*y4**4 - 5527200*x1**6*y1**4*y2**2*y4**4 + 6632640*x1**5*y1**5*y2**2*y4**4 - 5527200*x1**4*y1**6*y2**2*y4**4 + 3158400*x1**3*y1**7*y2**2*y4**4 - 1184400*x1**2*y1**8*y2**2*y4**4 + 263200*x1*y1**9*y2**2*y4**4 - 26320*y1**10*y2**2*y4**4 + 1747200*x1**9*y2**3*y4**4 - 15724800*x1**8*y1*y2**3*y4**4 + 62899200*x1**7*y1**2*y2**3*y4**4 - 146764800*x1**6*y1**3*y2**3*y4**4 + 220147200*x1**5*y1**4*y2**3*y4**4 - 220147200*x1**4*y1**5*y2**3*y4**4 + 146764800*x1**3*y1**6*y2**3*y4**4 - 62899200*x1**2*y1**7*y2**3*y4**4 + 15724800*x1*y1**8*y2**3*y4**4 - 1747200*y1**9*y2**3*y4**4 - 78393952*x1**8*y2**4*y4**4 + 627151616*x1**7*y1*y2**4*y4**4 - 2195030656*x1**6*y1**2*y2**4*y4**4 + 4390061312*x1**5*y1**3*y2**4*y4**4 - 5487576640*x1**4*y1**4*y2**4*y4**4 + 4390061312*x1**3*y1**5*y2**4*y4**4 - 2195030656*x1**2*y1**6*y2**4*y4**4 + 627151616*x1*y1**7*y2**4*y4**4 - 78393952*y1**8*y2**4*y4**4 + 2513871360*x1**7*y2**5*y4**4 - 17597099520*x1**6*y1*y2**5*y4**4 + 52791298560*x1**5*y1**2*y2**5*y4**4 - 87985497600*x1**4*y1**3*y2**5*y4**4 + 87985497600*x1**3*y1**4*y2**5*y4**4 - 52791298560*x1**2*y1**5*y2**5*y4**4 + 17597099520*x1*y1**6*y2**5*y4**4 - 2513871360*y1**7*y2**5*y4**4 - 59398127360*x1**6*y2**6*y4**4 + 356388764160*x1**5*y1*y2**6*y4**4 - 890971910400*x1**4*y1**2*y2**6*y4**4 + 1187962547200*x1**3*y1**3*y2**6*y4**4 - 890971910400*x1**2*y1**4*y2**6*y4**4 + 356388764160*x1*y1**5*y2**6*y4**4 - 59398127360*y1**6*y2**6*y4**4 + 1050576384000*x1**5*y2**7*y4**4 - 5252881920000*x1**4*y1*y2**7*y4**4 + 10505763840000*x1**3*y1**2*y2**7*y4**4 - 10505763840000*x1**2*y1**3*y2**7*y4**4 + 5252881920000*x1*y1**4*y2**7*y4**4 - 1050576384000*y1**5*y2**7*y4**4 - 13985569165568*x1**4*y2**8*y4**4 + 55942276662272*x1**3*y1*y2**8*y4**4 - 83913414993408*x1**2*y1**2*y2**8*y4**4 + 55942276662272*x1*y1**3*y2**8*y4**4 - 13985569165568*y1**4*y2**8*y4**4 + 139675243868160*x1**3*y2**9*y4**4 - 419025731604480*x1**2*y1*y2**9*y4**4 + 419025731604480*x1*y1**2*y2**9*y4**4 - 139675243868160*y1**3*y2**9*y4**4 - 1033904237649920*x1**2*y2**10*y4**4 + 2067808475299840*x1*y1*y2**10*y4**4 - 1033904237649920*y1**2*y2**10*y4**4 + 5543553731788800*x1*y2**11*y4**4 - 5543553731788800*y1*y2**11*y4**4 - 20713454402863104*y2**12*y4**4, 42849873690624000*y2**11*y3**4*y4 - 71092846618214400*y2**11*y3**3*y4**2 + 50510377899786240*y2**11*y3**2*y4**3 - 20713454402863104*y2**11*y3*y4**4 - x1**11*y4**5 + 11*x1**10*y1*y4**5 - 55*x1**9*y1**2*y4**5 + 165*x1**8*y1**3*y4**5 - 330*x1**7*y1**4*y4**5 + 462*x1**6*y1**5*y4**5 - 462*x1**5*y1**6*y4**5 + 330*x1**4*y1**7*y4**5 - 165*x1**3*y1**8*y4**5 + 55*x1**2*y1**9*y4**5 - 11*x1*y1**10*y4**5 + y1**11*y4**5 + 240*x1**10*y2*y4**5 - 2400*x1**9*y1*y2*y4**5 + 10800*x1**8*y1**2*y2*y4**5 - 28800*x1**7*y1**3*y2*y4**5 + 50400*x1**6*y1**4*y2*y4**5 - 60480*x1**5*y1**5*y2*y4**5 + 50400*x1**4*y1**6*y2*y4**5 - 28800*x1**3*y1**7*y2*y4**5 + 10800*x1**2*y1**8*y2*y4**5 - 2400*x1*y1**9*y2*y4**5 + 240*y1**10*y2*y4**5 - 26320*x1**9*y2**2*y4**5 + 236880*x1**8*y1*y2**2*y4**5 - 947520*x1**7*y1**2*y2**2*y4**5 + 2210880*x1**6*y1**3*y2**2*y4**5 - 3316320*x1**5*y1**4*y2**2*y4**5 + 3316320*x1**4*y1**5*y2**2*y4**5 - 2210880*x1**3*y1**6*y2**2*y4**5 + 947520*x1**2*y1**7*y2**2*y4**5 - 236880*x1*y1**8*y2**2*y4**5 + 26320*y1**9*y2**2*y4**5 + 1747200*x1**8*y2**3*y4**5 - 13977600*x1**7*y1*y2**3*y4**5 + 48921600*x1**6*y1**2*y2**3*y4**5 - 97843200*x1**5*y1**3*y2**3*y4**5 + 122304000*x1**4*y1**4*y2**3*y4**5 - 97843200*x1**3*y1**5*y2**3*y4**5 + 48921600*x1**2*y1**6*y2**3*y4**5 - 13977600*x1*y1**7*y2**3*y4**5 + 1747200*y1**8*y2**3*y4**5 - 78393952*x1**7*y2**4*y4**5 + 548757664*x1**6*y1*y2**4*y4**5 - 1646272992*x1**5*y1**2*y2**4*y4**5 + 2743788320*x1**4*y1**3*y2**4*y4**5 - 2743788320*x1**3*y1**4*y2**4*y4**5 + 1646272992*x1**2*y1**5*y2**4*y4**5 - 548757664*x1*y1**6*y2**4*y4**5 + 78393952*y1**7*y2**4*y4**5 + 2513871360*x1**6*y2**5*y4**5 - 15083228160*x1**5*y1*y2**5*y4**5 + 37708070400*x1**4*y1**2*y2**5*y4**5 - 50277427200*x1**3*y1**3*y2**5*y4**5 + 37708070400*x1**2*y1**4*y2**5*y4**5 - 15083228160*x1*y1**5*y2**5*y4**5 + 2513871360*y1**6*y2**5*y4**5 - 59398127360*x1**5*y2**6*y4**5 + 296990636800*x1**4*y1*y2**6*y4**5 - 593981273600*x1**3*y1**2*y2**6*y4**5 + 593981273600*x1**2*y1**3*y2**6*y4**5 - 296990636800*x1*y1**4*y2**6*y4**5 + 59398127360*y1**5*y2**6*y4**5 + 1050576384000*x1**4*y2**7*y4**5 - 4202305536000*x1**3*y1*y2**7*y4**5 + 6303458304000*x1**2*y1**2*y2**7*y4**5 - 4202305536000*x1*y1**3*y2**7*y4**5 + 1050576384000*y1**4*y2**7*y4**5 - 13985569165568*x1**3*y2**8*y4**5 + 41956707496704*x1**2*y1*y2**8*y4**5 - 41956707496704*x1*y1**2*y2**8*y4**5 + 13985569165568*y1**3*y2**8*y4**5 + 139675243868160*x1**2*y2**9*y4**5 - 279350487736320*x1*y1*y2**9*y4**5 + 139675243868160*y1**2*y2**9*y4**5 - 1033904237649920*x1*y2**10*y4**5 + 1033904237649920*y1*y2**10*y4**5 + 5543553731788800*y2**11*y4**5, 42849873690624000*y2**10*y3**5*y4 - 71092846618214400*y2**10*y3**4*y4**2 + 50510377899786240*y2**10*y3**3*y4**3 - 20713454402863104*y2**10*y3**2*y4**4 + 5543553731788800*y2**10*y3*y4**5 - x1**10*y4**6 + 10*x1**9*y1*y4**6 - 45*x1**8*y1**2*y4**6 + 120*x1**7*y1**3*y4**6 - 210*x1**6*y1**4*y4**6 + 252*x1**5*y1**5*y4**6 - 210*x1**4*y1**6*y4**6 + 120*x1**3*y1**7*y4**6 - 45*x1**2*y1**8*y4**6 + 10*x1*y1**9*y4**6 - y1**10*y4**6 + 240*x1**9*y2*y4**6 - 2160*x1**8*y1*y2*y4**6 + 8640*x1**7*y1**2*y2*y4**6 - 20160*x1**6*y1**3*y2*y4**6 + 30240*x1**5*y1**4*y2*y4**6 - 30240*x1**4*y1**5*y2*y4**6 + 20160*x1**3*y1**6*y2*y4**6 - 8640*x1**2*y1**7*y2*y4**6 + 2160*x1*y1**8*y2*y4**6 - 240*y1**9*y2*y4**6 - 26320*x1**8*y2**2*y4**6 + 210560*x1**7*y1*y2**2*y4**6 - 736960*x1**6*y1**2*y2**2*y4**6 + 1473920*x1**5*y1**3*y2**2*y4**6 - 1842400*x1**4*y1**4*y2**2*y4**6 + 1473920*x1**3*y1**5*y2**2*y4**6 - 736960*x1**2*y1**6*y2**2*y4**6 + 210560*x1*y1**7*y2**2*y4**6 - 26320*y1**8*y2**2*y4**6 + 1747200*x1**7*y2**3*y4**6 - 12230400*x1**6*y1*y2**3*y4**6 + 36691200*x1**5*y1**2*y2**3*y4**6 - 61152000*x1**4*y1**3*y2**3*y4**6 + 61152000*x1**3*y1**4*y2**3*y4**6 - 36691200*x1**2*y1**5*y2**3*y4**6 + 12230400*x1*y1**6*y2**3*y4**6 - 1747200*y1**7*y2**3*y4**6 - 78393952*x1**6*y2**4*y4**6 + 470363712*x1**5*y1*y2**4*y4**6 - 1175909280*x1**4*y1**2*y2**4*y4**6 + 1567879040*x1**3*y1**3*y2**4*y4**6 - 1175909280*x1**2*y1**4*y2**4*y4**6 + 470363712*x1*y1**5*y2**4*y4**6 - 78393952*y1**6*y2**4*y4**6 + 2513871360*x1**5*y2**5*y4**6 - 12569356800*x1**4*y1*y2**5*y4**6 + 25138713600*x1**3*y1**2*y2**5*y4**6 - 25138713600*x1**2*y1**3*y2**5*y4**6 + 12569356800*x1*y1**4*y2**5*y4**6 - 2513871360*y1**5*y2**5*y4**6 - 59398127360*x1**4*y2**6*y4**6 + 237592509440*x1**3*y1*y2**6*y4**6 - 356388764160*x1**2*y1**2*y2**6*y4**6 + 237592509440*x1*y1**3*y2**6*y4**6 - 59398127360*y1**4*y2**6*y4**6 + 1050576384000*x1**3*y2**7*y4**6 - 3151729152000*x1**2*y1*y2**7*y4**6 + 3151729152000*x1*y1**2*y2**7*y4**6 - 1050576384000*y1**3*y2**7*y4**6 - 13985569165568*x1**2*y2**8*y4**6 + 27971138331136*x1*y1*y2**8*y4**6 - 13985569165568*y1**2*y2**8*y4**6 + 139675243868160*x1*y2**9*y4**6 - 139675243868160*y1*y2**9*y4**6 - 1033904237649920*y2**10*y4**6, 42849873690624000*y2**9*y3**6*y4 - 71092846618214400*y2**9*y3**5*y4**2 + 50510377899786240*y2**9*y3**4*y4**3 - 20713454402863104*y2**9*y3**3*y4**4 + 5543553731788800*y2**9*y3**2*y4**5 - 1033904237649920*y2**9*y3*y4**6 - x1**9*y4**7 + 9*x1**8*y1*y4**7 - 36*x1**7*y1**2*y4**7 + 84*x1**6*y1**3*y4**7 - 126*x1**5*y1**4*y4**7 + 126*x1**4*y1**5*y4**7 - 84*x1**3*y1**6*y4**7 + 36*x1**2*y1**7*y4**7 - 9*x1*y1**8*y4**7 + y1**9*y4**7 + 240*x1**8*y2*y4**7 - 1920*x1**7*y1*y2*y4**7 + 6720*x1**6*y1**2*y2*y4**7 - 13440*x1**5*y1**3*y2*y4**7 + 16800*x1**4*y1**4*y2*y4**7 - 13440*x1**3*y1**5*y2*y4**7 + 6720*x1**2*y1**6*y2*y4**7 - 1920*x1*y1**7*y2*y4**7 + 240*y1**8*y2*y4**7 - 26320*x1**7*y2**2*y4**7 + 184240*x1**6*y1*y2**2*y4**7 - 552720*x1**5*y1**2*y2**2*y4**7 + 921200*x1**4*y1**3*y2**2*y4**7 - 921200*x1**3*y1**4*y2**2*y4**7 + 552720*x1**2*y1**5*y2**2*y4**7 - 184240*x1*y1**6*y2**2*y4**7 + 26320*y1**7*y2**2*y4**7 + 1747200*x1**6*y2**3*y4**7 - 10483200*x1**5*y1*y2**3*y4**7 + 26208000*x1**4*y1**2*y2**3*y4**7 - 34944000*x1**3*y1**3*y2**3*y4**7 + 26208000*x1**2*y1**4*y2**3*y4**7 - 10483200*x1*y1**5*y2**3*y4**7 + 1747200*y1**6*y2**3*y4**7 - 78393952*x1**5*y2**4*y4**7 + 391969760*x1**4*y1*y2**4*y4**7 - 783939520*x1**3*y1**2*y2**4*y4**7 + 783939520*x1**2*y1**3*y2**4*y4**7 - 391969760*x1*y1**4*y2**4*y4**7 + 78393952*y1**5*y2**4*y4**7 + 2513871360*x1**4*y2**5*y4**7 - 10055485440*x1**3*y1*y2**5*y4**7 + 15083228160*x1**2*y1**2*y2**5*y4**7 - 10055485440*x1*y1**3*y2**5*y4**7 + 2513871360*y1**4*y2**5*y4**7 - 59398127360*x1**3*y2**6*y4**7 + 178194382080*x1**2*y1*y2**6*y4**7 - 178194382080*x1*y1**2*y2**6*y4**7 + 59398127360*y1**3*y2**6*y4**7 + 1050576384000*x1**2*y2**7*y4**7 - 2101152768000*x1*y1*y2**7*y4**7 + 1050576384000*y1**2*y2**7*y4**7 - 13985569165568*x1*y2**8*y4**7 + 13985569165568*y1*y2**8*y4**7 + 139675243868160*y2**9*y4**7, 42849873690624000*y2**8*y3**7*y4 - 71092846618214400*y2**8*y3**6*y4**2 + 50510377899786240*y2**8*y3**5*y4**3 - 20713454402863104*y2**8*y3**4*y4**4 + 5543553731788800*y2**8*y3**3*y4**5 - 1033904237649920*y2**8*y3**2*y4**6 + 139675243868160*y2**8*y3*y4**7 - x1**8*y4**8 + 8*x1**7*y1*y4**8 - 28*x1**6*y1**2*y4**8 + 56*x1**5*y1**3*y4**8 - 70*x1**4*y1**4*y4**8 + 56*x1**3*y1**5*y4**8 - 28*x1**2*y1**6*y4**8 + 8*x1*y1**7*y4**8 - y1**8*y4**8 + 240*x1**7*y2*y4**8 - 1680*x1**6*y1*y2*y4**8 + 5040*x1**5*y1**2*y2*y4**8 - 8400*x1**4*y1**3*y2*y4**8 + 8400*x1**3*y1**4*y2*y4**8 - 5040*x1**2*y1**5*y2*y4**8 + 1680*x1*y1**6*y2*y4**8 - 240*y1**7*y2*y4**8 - 26320*x1**6*y2**2*y4**8 + 157920*x1**5*y1*y2**2*y4**8 - 394800*x1**4*y1**2*y2**2*y4**8 + 526400*x1**3*y1**3*y2**2*y4**8 - 394800*x1**2*y1**4*y2**2*y4**8 + 157920*x1*y1**5*y2**2*y4**8 - 26320*y1**6*y2**2*y4**8 + 1747200*x1**5*y2**3*y4**8 - 8736000*x1**4*y1*y2**3*y4**8 + 17472000*x1**3*y1**2*y2**3*y4**8 - 17472000*x1**2*y1**3*y2**3*y4**8 + 8736000*x1*y1**4*y2**3*y4**8 - 1747200*y1**5*y2**3*y4**8 - 78393952*x1**4*y2**4*y4**8 + 313575808*x1**3*y1*y2**4*y4**8 - 470363712*x1**2*y1**2*y2**4*y4**8 + 313575808*x1*y1**3*y2**4*y4**8 - 78393952*y1**4*y2**4*y4**8 + 2513871360*x1**3*y2**5*y4**8 - 7541614080*x1**2*y1*y2**5*y4**8 + 7541614080*x1*y1**2*y2**5*y4**8 - 2513871360*y1**3*y2**5*y4**8 - 59398127360*x1**2*y2**6*y4**8 + 118796254720*x1*y1*y2**6*y4**8 - 59398127360*y1**2*y2**6*y4**8 + 1050576384000*x1*y2**7*y4**8 - 1050576384000*y1*y2**7*y4**8 - 13985569165568*y2**8*y4**8, 42849873690624000*y2**7*y3**8*y4 - 71092846618214400*y2**7*y3**7*y4**2 + 50510377899786240*y2**7*y3**6*y4**3 - 20713454402863104*y2**7*y3**5*y4**4 + 5543553731788800*y2**7*y3**4*y4**5 - 1033904237649920*y2**7*y3**3*y4**6 + 139675243868160*y2**7*y3**2*y4**7 - 13985569165568*y2**7*y3*y4**8 - x1**7*y4**9 + 7*x1**6*y1*y4**9 - 21*x1**5*y1**2*y4**9 + 35*x1**4*y1**3*y4**9 - 35*x1**3*y1**4*y4**9 + 21*x1**2*y1**5*y4**9 - 7*x1*y1**6*y4**9 + y1**7*y4**9 + 240*x1**6*y2*y4**9 - 1440*x1**5*y1*y2*y4**9 + 3600*x1**4*y1**2*y2*y4**9 - 4800*x1**3*y1**3*y2*y4**9 + 3600*x1**2*y1**4*y2*y4**9 - 1440*x1*y1**5*y2*y4**9 + 240*y1**6*y2*y4**9 - 26320*x1**5*y2**2*y4**9 + 131600*x1**4*y1*y2**2*y4**9 - 263200*x1**3*y1**2*y2**2*y4**9 + 263200*x1**2*y1**3*y2**2*y4**9 - 131600*x1*y1**4*y2**2*y4**9 + 26320*y1**5*y2**2*y4**9 + 1747200*x1**4*y2**3*y4**9 - 6988800*x1**3*y1*y2**3*y4**9 + 10483200*x1**2*y1**2*y2**3*y4**9 - 6988800*x1*y1**3*y2**3*y4**9 + 1747200*y1**4*y2**3*y4**9 - 78393952*x1**3*y2**4*y4**9 + 235181856*x1**2*y1*y2**4*y4**9 - 235181856*x1*y1**2*y2**4*y4**9 + 78393952*y1**3*y2**4*y4**9 + 2513871360*x1**2*y2**5*y4**9 - 5027742720*x1*y1*y2**5*y4**9 + 2513871360*y1**2*y2**5*y4**9 - 59398127360*x1*y2**6*y4**9 + 59398127360*y1*y2**6*y4**9 + 1050576384000*y2**7*y4**9, 42849873690624000*y2**6*y3**9*y4 - 71092846618214400*y2**6*y3**8*y4**2 + 50510377899786240*y2**6*y3**7*y4**3 - 20713454402863104*y2**6*y3**6*y4**4 + 5543553731788800*y2**6*y3**5*y4**5 - 1033904237649920*y2**6*y3**4*y4**6 + 139675243868160*y2**6*y3**3*y4**7 - 13985569165568*y2**6*y3**2*y4**8 + 1050576384000*y2**6*y3*y4**9 - x1**6*y4**10 + 6*x1**5*y1*y4**10 - 15*x1**4*y1**2*y4**10 + 20*x1**3*y1**3*y4**10 - 15*x1**2*y1**4*y4**10 + 6*x1*y1**5*y4**10 - y1**6*y4**10 + 240*x1**5*y2*y4**10 - 1200*x1**4*y1*y2*y4**10 + 2400*x1**3*y1**2*y2*y4**10 - 2400*x1**2*y1**3*y2*y4**10 + 1200*x1*y1**4*y2*y4**10 - 240*y1**5*y2*y4**10 - 26320*x1**4*y2**2*y4**10 + 105280*x1**3*y1*y2**2*y4**10 - 157920*x1**2*y1**2*y2**2*y4**10 + 105280*x1*y1**3*y2**2*y4**10 - 26320*y1**4*y2**2*y4**10 + 1747200*x1**3*y2**3*y4**10 - 5241600*x1**2*y1*y2**3*y4**10 + 5241600*x1*y1**2*y2**3*y4**10 - 1747200*y1**3*y2**3*y4**10 - 78393952*x1**2*y2**4*y4**10 + 156787904*x1*y1*y2**4*y4**10 - 78393952*y1**2*y2**4*y4**10 + 2513871360*x1*y2**5*y4**10 - 2513871360*y1*y2**5*y4**10 - 59398127360*y2**6*y4**10, 42849873690624000*y2**5*y3**10*y4 - 71092846618214400*y2**5*y3**9*y4**2 + 50510377899786240*y2**5*y3**8*y4**3 - 20713454402863104*y2**5*y3**7*y4**4 + 5543553731788800*y2**5*y3**6*y4**5 - 1033904237649920*y2**5*y3**5*y4**6 + 139675243868160*y2**5*y3**4*y4**7 - 13985569165568*y2**5*y3**3*y4**8 + 1050576384000*y2**5*y3**2*y4**9 - 59398127360*y2**5*y3*y4**10 - x1**5*y4**11 + 5*x1**4*y1*y4**11 - 10*x1**3*y1**2*y4**11 + 10*x1**2*y1**3*y4**11 - 5*x1*y1**4*y4**11 + y1**5*y4**11 + 240*x1**4*y2*y4**11 - 960*x1**3*y1*y2*y4**11 + 1440*x1**2*y1**2*y2*y4**11 - 960*x1*y1**3*y2*y4**11 + 240*y1**4*y2*y4**11 - 26320*x1**3*y2**2*y4**11 + 78960*x1**2*y1*y2**2*y4**11 - 78960*x1*y1**2*y2**2*y4**11 + 26320*y1**3*y2**2*y4**11 + 1747200*x1**2*y2**3*y4**11 - 3494400*x1*y1*y2**3*y4**11 + 1747200*y1**2*y2**3*y4**11 - 78393952*x1*y2**4*y4**11 + 78393952*y1*y2**4*y4**11 + 2513871360*y2**5*y4**11, 42849873690624000*y2**4*y3**11*y4 - 71092846618214400*y2**4*y3**10*y4**2 + 50510377899786240*y2**4*y3**9*y4**3 - 20713454402863104*y2**4*y3**8*y4**4 + 5543553731788800*y2**4*y3**7*y4**5 - 1033904237649920*y2**4*y3**6*y4**6 + 139675243868160*y2**4*y3**5*y4**7 - 13985569165568*y2**4*y3**4*y4**8 + 1050576384000*y2**4*y3**3*y4**9 - 59398127360*y2**4*y3**2*y4**10 + 2513871360*y2**4*y3*y4**11 - x1**4*y4**12 + 4*x1**3*y1*y4**12 - 6*x1**2*y1**2*y4**12 + 4*x1*y1**3*y4**12 - y1**4*y4**12 + 240*x1**3*y2*y4**12 - 720*x1**2*y1*y2*y4**12 + 720*x1*y1**2*y2*y4**12 - 240*y1**3*y2*y4**12 - 26320*x1**2*y2**2*y4**12 + 52640*x1*y1*y2**2*y4**12 - 26320*y1**2*y2**2*y4**12 + 1747200*x1*y2**3*y4**12 - 1747200*y1*y2**3*y4**12 - 78393952*y2**4*y4**12, 42849873690624000*y2**3*y3**12*y4 - 71092846618214400*y2**3*y3**11*y4**2 + 50510377899786240*y2**3*y3**10*y4**3 - 20713454402863104*y2**3*y3**9*y4**4 + 5543553731788800*y2**3*y3**8*y4**5 - 1033904237649920*y2**3*y3**7*y4**6 + 139675243868160*y2**3*y3**6*y4**7 - 13985569165568*y2**3*y3**5*y4**8 + 1050576384000*y2**3*y3**4*y4**9 - 59398127360*y2**3*y3**3*y4**10 + 2513871360*y2**3*y3**2*y4**11 - 78393952*y2**3*y3*y4**12 - x1**3*y4**13 + 3*x1**2*y1*y4**13 - 3*x1*y1**2*y4**13 + y1**3*y4**13 + 240*x1**2*y2*y4**13 - 480*x1*y1*y2*y4**13 + 240*y1**2*y2*y4**13 - 26320*x1*y2**2*y4**13 + 26320*y1*y2**2*y4**13 + 1747200*y2**3*y4**13, 42849873690624000*y2**2*y3**13*y4 - 71092846618214400*y2**2*y3**12*y4**2 + 50510377899786240*y2**2*y3**11*y4**3 - 20713454402863104*y2**2*y3**10*y4**4 + 5543553731788800*y2**2*y3**9*y4**5 - 1033904237649920*y2**2*y3**8*y4**6 + 139675243868160*y2**2*y3**7*y4**7 - 13985569165568*y2**2*y3**6*y4**8 + 1050576384000*y2**2*y3**5*y4**9 - 59398127360*y2**2*y3**4*y4**10 + 2513871360*y2**2*y3**3*y4**11 - 78393952*y2**2*y3**2*y4**12 + 1747200*y2**2*y3*y4**13 - x1**2*y4**14 + 2*x1*y1*y4**14 - y1**2*y4**14 + 240*x1*y2*y4**14 - 240*y1*y2*y4**14 - 26320*y2**2*y4**14, 42849873690624000*y2*y3**14*y4 - 71092846618214400*y2*y3**13*y4**2 + 50510377899786240*y2*y3**12*y4**3 - 20713454402863104*y2*y3**11*y4**4 + 5543553731788800*y2*y3**10*y4**5 - 1033904237649920*y2*y3**9*y4**6 + 139675243868160*y2*y3**8*y4**7 - 13985569165568*y2*y3**7*y4**8 + 1050576384000*y2*y3**6*y4**9 - 59398127360*y2*y3**5*y4**10 + 2513871360*y2*y3**4*y4**11 - 78393952*y2*y3**3*y4**12 + 1747200*y2*y3**2*y4**13 - 26320*y2*y3*y4**14 - x1*y4**15 + y1*y4**15 + 240*y2*y4**15, 42849873690624000*y3**15*y4 - 71092846618214400*y3**14*y4**2 + 50510377899786240*y3**13*y4**3 - 20713454402863104*y3**12*y4**4 + 5543553731788800*y3**11*y4**5 - 1033904237649920*y3**10*y4**6 + 139675243868160*y3**9*y4**7 - 13985569165568*y3**8*y4**8 + 1050576384000*y3**7*y4**9 - 59398127360*y3**6*y4**10 + 2513871360*y3**5*y4**11 - 78393952*y3**4*y4**12 + 1747200*y3**3*y4**13 - 26320*y3**2*y4**14 + 240*y3*y4**15 - y4**16, x1*y3 - y1*y3 - y2*y4, x2*y3 - y2, x2*y4 - x1 + y1], x1, x2, y1, y2, y3, y4, domain='ZZ', order='grevlex')\n",
      "\t Widening\n",
      "\t After Widening: GroebnerBasis([x1*y3 - y1*y3 - y2*y4, x2*y3 - y2, x2*y4 - x1 + y1], x1, x2, y1, y2, y3, y4, domain='ZZ', order='grevlex')\n",
      "Interation # 5\n",
      "\t J= GroebnerBasis([x1*y3 - y1*y3 - y2*y4, x2*y3 - y2, x2*y4 - x1 + y1], x1, x2, y1, y2, y3, y4, domain='ZZ', order='grevlex')\n",
      "\t Widening\n",
      "\t After Widening: GroebnerBasis([x1*y3 - y1*y3 - y2*y4, x2*y3 - y2, x2*y4 - x1 + y1], x1, x2, y1, y2, y3, y4, domain='ZZ', order='grevlex')\n"
     ]
    }
   ],
   "source": [
    "I_1 = perform_abstract_interpretation(I.exprs, trans_rels_loop_1, prog_vars, prog_vars_primed)"
   ]
  },
  {
   "cell_type": "code",
   "execution_count": null,
   "id": "5c57bc90-b2ee-4898-8c3d-e8804b73035c",
   "metadata": {},
   "outputs": [],
   "source": []
  }
 ],
 "metadata": {
  "kernelspec": {
   "display_name": "Python 3 (ipykernel)",
   "language": "python",
   "name": "python3"
  },
  "language_info": {
   "codemirror_mode": {
    "name": "ipython",
    "version": 3
   },
   "file_extension": ".py",
   "mimetype": "text/x-python",
   "name": "python",
   "nbconvert_exporter": "python",
   "pygments_lexer": "ipython3",
   "version": "3.13.5"
  }
 },
 "nbformat": 4,
 "nbformat_minor": 5
}
